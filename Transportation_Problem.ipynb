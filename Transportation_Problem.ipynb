{
  "nbformat": 4,
  "nbformat_minor": 0,
  "metadata": {
    "colab": {
      "name": "Transportation Problem.ipynb",
      "provenance": [],
      "collapsed_sections": [
        "n5fqdOveGgxA",
        "-mtEEpkEHgER"
      ],
      "mount_file_id": "1ee4rryQaepmF0YcZOMBcnj4wYWn7vxWO",
      "authorship_tag": "ABX9TyNZFz2y/rtmySHrXkJP5Jk3",
      "include_colab_link": true
    },
    "kernelspec": {
      "name": "python3",
      "display_name": "Python 3"
    },
    "language_info": {
      "name": "python"
    }
  },
  "cells": [
    {
      "cell_type": "markdown",
      "metadata": {
        "id": "view-in-github",
        "colab_type": "text"
      },
      "source": [
        "<a href=\"https://colab.research.google.com/github/theschool8/transportation_problem/blob/main/Transportation_Problem.ipynb\" target=\"_parent\"><img src=\"https://colab.research.google.com/assets/colab-badge.svg\" alt=\"Open In Colab\"/></a>"
      ]
    },
    {
      "cell_type": "code",
      "metadata": {
        "id": "EDTuz6qvaMja"
      },
      "source": [
        "import numpy as np\n",
        "import pandas as pd"
      ],
      "execution_count": null,
      "outputs": []
    },
    {
      "cell_type": "code",
      "metadata": {
        "colab": {
          "base_uri": "https://localhost:8080/",
          "height": 204
        },
        "id": "JCUdaz-Q1FAH",
        "outputId": "70121291-1b9b-4b3f-88b1-058143b1e545"
      },
      "source": [
        "path = '/content/drive/MyDrive/Colab Notebooks//Calculation OPTIMIZATION Nett Margin.xlsx'\n",
        "data_cost = pd.read_excel(path, sheet_name=3, index_col=0)\n",
        "data_cost.head()"
      ],
      "execution_count": null,
      "outputs": [
        {
          "output_type": "execute_result",
          "data": {
            "text/html": [
              "<div>\n",
              "<style scoped>\n",
              "    .dataframe tbody tr th:only-of-type {\n",
              "        vertical-align: middle;\n",
              "    }\n",
              "\n",
              "    .dataframe tbody tr th {\n",
              "        vertical-align: top;\n",
              "    }\n",
              "\n",
              "    .dataframe thead th {\n",
              "        text-align: right;\n",
              "    }\n",
              "</style>\n",
              "<table border=\"1\" class=\"dataframe\">\n",
              "  <thead>\n",
              "    <tr style=\"text-align: right;\">\n",
              "      <th></th>\n",
              "      <th>nett</th>\n",
              "      <th>cost</th>\n",
              "      <th>plant</th>\n",
              "      <th>branch</th>\n",
              "      <th>type</th>\n",
              "      <th>capacity</th>\n",
              "    </tr>\n",
              "  </thead>\n",
              "  <tbody>\n",
              "    <tr>\n",
              "      <th>0</th>\n",
              "      <td>46500</td>\n",
              "      <td>3500</td>\n",
              "      <td>0</td>\n",
              "      <td>BANDUNG</td>\n",
              "      <td>AA</td>\n",
              "      <td>15000</td>\n",
              "    </tr>\n",
              "    <tr>\n",
              "      <th>1</th>\n",
              "      <td>47500</td>\n",
              "      <td>2500</td>\n",
              "      <td>0</td>\n",
              "      <td>YOGYA</td>\n",
              "      <td>AA</td>\n",
              "      <td>15000</td>\n",
              "    </tr>\n",
              "    <tr>\n",
              "      <th>2</th>\n",
              "      <td>47000</td>\n",
              "      <td>3000</td>\n",
              "      <td>0</td>\n",
              "      <td>MALANG</td>\n",
              "      <td>AA</td>\n",
              "      <td>15000</td>\n",
              "    </tr>\n",
              "    <tr>\n",
              "      <th>3</th>\n",
              "      <td>47000</td>\n",
              "      <td>3000</td>\n",
              "      <td>0</td>\n",
              "      <td>JAKARTA</td>\n",
              "      <td>AA</td>\n",
              "      <td>15000</td>\n",
              "    </tr>\n",
              "    <tr>\n",
              "      <th>4</th>\n",
              "      <td>41500</td>\n",
              "      <td>3500</td>\n",
              "      <td>0</td>\n",
              "      <td>BANDUNG</td>\n",
              "      <td>BB</td>\n",
              "      <td>20000</td>\n",
              "    </tr>\n",
              "  </tbody>\n",
              "</table>\n",
              "</div>"
            ],
            "text/plain": [
              "    nett  cost  plant   branch type  capacity\n",
              "0  46500  3500      0  BANDUNG   AA     15000\n",
              "1  47500  2500      0    YOGYA   AA     15000\n",
              "2  47000  3000      0   MALANG   AA     15000\n",
              "3  47000  3000      0  JAKARTA   AA     15000\n",
              "4  41500  3500      0  BANDUNG   BB     20000"
            ]
          },
          "metadata": {
            "tags": []
          },
          "execution_count": 56
        }
      ]
    },
    {
      "cell_type": "code",
      "metadata": {
        "colab": {
          "base_uri": "https://localhost:8080/",
          "height": 421
        },
        "id": "UpLrVftC6Inq",
        "outputId": "0b165b82-fd40-487b-9af0-c206d8edd1a8"
      },
      "source": [
        "data_demand = pd.read_excel(path, sheet_name=0, usecols=range(1,4), \n",
        "                            nrows=12, names=['demand', 'branch', 'type'])\n",
        "data_demand"
      ],
      "execution_count": null,
      "outputs": [
        {
          "output_type": "execute_result",
          "data": {
            "text/html": [
              "<div>\n",
              "<style scoped>\n",
              "    .dataframe tbody tr th:only-of-type {\n",
              "        vertical-align: middle;\n",
              "    }\n",
              "\n",
              "    .dataframe tbody tr th {\n",
              "        vertical-align: top;\n",
              "    }\n",
              "\n",
              "    .dataframe thead th {\n",
              "        text-align: right;\n",
              "    }\n",
              "</style>\n",
              "<table border=\"1\" class=\"dataframe\">\n",
              "  <thead>\n",
              "    <tr style=\"text-align: right;\">\n",
              "      <th></th>\n",
              "      <th>demand</th>\n",
              "      <th>branch</th>\n",
              "      <th>type</th>\n",
              "    </tr>\n",
              "  </thead>\n",
              "  <tbody>\n",
              "    <tr>\n",
              "      <th>0</th>\n",
              "      <td>20000</td>\n",
              "      <td>BANDUNG</td>\n",
              "      <td>AA</td>\n",
              "    </tr>\n",
              "    <tr>\n",
              "      <th>1</th>\n",
              "      <td>12000</td>\n",
              "      <td>BANDUNG</td>\n",
              "      <td>BB</td>\n",
              "    </tr>\n",
              "    <tr>\n",
              "      <th>2</th>\n",
              "      <td>12000</td>\n",
              "      <td>BANDUNG</td>\n",
              "      <td>CC</td>\n",
              "    </tr>\n",
              "    <tr>\n",
              "      <th>3</th>\n",
              "      <td>15000</td>\n",
              "      <td>YOGYA</td>\n",
              "      <td>AA</td>\n",
              "    </tr>\n",
              "    <tr>\n",
              "      <th>4</th>\n",
              "      <td>11000</td>\n",
              "      <td>YOGYA</td>\n",
              "      <td>BB</td>\n",
              "    </tr>\n",
              "    <tr>\n",
              "      <th>5</th>\n",
              "      <td>10500</td>\n",
              "      <td>YOGYA</td>\n",
              "      <td>CC</td>\n",
              "    </tr>\n",
              "    <tr>\n",
              "      <th>6</th>\n",
              "      <td>15000</td>\n",
              "      <td>MALANG</td>\n",
              "      <td>AA</td>\n",
              "    </tr>\n",
              "    <tr>\n",
              "      <th>7</th>\n",
              "      <td>8500</td>\n",
              "      <td>MALANG</td>\n",
              "      <td>BB</td>\n",
              "    </tr>\n",
              "    <tr>\n",
              "      <th>8</th>\n",
              "      <td>9000</td>\n",
              "      <td>MALANG</td>\n",
              "      <td>CC</td>\n",
              "    </tr>\n",
              "    <tr>\n",
              "      <th>9</th>\n",
              "      <td>12000</td>\n",
              "      <td>JAKARTA</td>\n",
              "      <td>AA</td>\n",
              "    </tr>\n",
              "    <tr>\n",
              "      <th>10</th>\n",
              "      <td>7000</td>\n",
              "      <td>JAKARTA</td>\n",
              "      <td>BB</td>\n",
              "    </tr>\n",
              "    <tr>\n",
              "      <th>11</th>\n",
              "      <td>10000</td>\n",
              "      <td>JAKARTA</td>\n",
              "      <td>CC</td>\n",
              "    </tr>\n",
              "  </tbody>\n",
              "</table>\n",
              "</div>"
            ],
            "text/plain": [
              "    demand   branch type\n",
              "0    20000  BANDUNG   AA\n",
              "1    12000  BANDUNG   BB\n",
              "2    12000  BANDUNG   CC\n",
              "3    15000    YOGYA   AA\n",
              "4    11000    YOGYA   BB\n",
              "5    10500    YOGYA   CC\n",
              "6    15000   MALANG   AA\n",
              "7     8500   MALANG   BB\n",
              "8     9000   MALANG   CC\n",
              "9    12000  JAKARTA   AA\n",
              "10    7000  JAKARTA   BB\n",
              "11   10000  JAKARTA   CC"
            ]
          },
          "metadata": {
            "tags": []
          },
          "execution_count": 57
        }
      ]
    },
    {
      "cell_type": "code",
      "metadata": {
        "colab": {
          "base_uri": "https://localhost:8080/",
          "height": 359
        },
        "id": "jq4MXx1NCW4x",
        "outputId": "6b12101a-01d8-40bf-a588-a01c0ba5dd59"
      },
      "source": [
        "data_all = pd.merge(data_cost, data_demand, on=['branch', 'type'], how='left')\n",
        "data_all['margin'] = data_all[['cost','nett']].sum(axis=1)\n",
        "data_all['branch_id'] = data_all['branch']\n",
        "code = {'branch_id': {'BANDUNG': 0, 'YOGYA': 1, 'MALANG': 2, 'JAKARTA': 3}}\n",
        "data_all = data_all.replace(code)\n",
        "data_all.head(10)"
      ],
      "execution_count": null,
      "outputs": [
        {
          "output_type": "execute_result",
          "data": {
            "text/html": [
              "<div>\n",
              "<style scoped>\n",
              "    .dataframe tbody tr th:only-of-type {\n",
              "        vertical-align: middle;\n",
              "    }\n",
              "\n",
              "    .dataframe tbody tr th {\n",
              "        vertical-align: top;\n",
              "    }\n",
              "\n",
              "    .dataframe thead th {\n",
              "        text-align: right;\n",
              "    }\n",
              "</style>\n",
              "<table border=\"1\" class=\"dataframe\">\n",
              "  <thead>\n",
              "    <tr style=\"text-align: right;\">\n",
              "      <th></th>\n",
              "      <th>nett</th>\n",
              "      <th>cost</th>\n",
              "      <th>plant</th>\n",
              "      <th>branch</th>\n",
              "      <th>type</th>\n",
              "      <th>capacity</th>\n",
              "      <th>demand</th>\n",
              "      <th>margin</th>\n",
              "      <th>branch_id</th>\n",
              "    </tr>\n",
              "  </thead>\n",
              "  <tbody>\n",
              "    <tr>\n",
              "      <th>0</th>\n",
              "      <td>46500</td>\n",
              "      <td>3500</td>\n",
              "      <td>0</td>\n",
              "      <td>BANDUNG</td>\n",
              "      <td>AA</td>\n",
              "      <td>15000</td>\n",
              "      <td>20000</td>\n",
              "      <td>50000</td>\n",
              "      <td>0</td>\n",
              "    </tr>\n",
              "    <tr>\n",
              "      <th>1</th>\n",
              "      <td>47500</td>\n",
              "      <td>2500</td>\n",
              "      <td>0</td>\n",
              "      <td>YOGYA</td>\n",
              "      <td>AA</td>\n",
              "      <td>15000</td>\n",
              "      <td>15000</td>\n",
              "      <td>50000</td>\n",
              "      <td>1</td>\n",
              "    </tr>\n",
              "    <tr>\n",
              "      <th>2</th>\n",
              "      <td>47000</td>\n",
              "      <td>3000</td>\n",
              "      <td>0</td>\n",
              "      <td>MALANG</td>\n",
              "      <td>AA</td>\n",
              "      <td>15000</td>\n",
              "      <td>15000</td>\n",
              "      <td>50000</td>\n",
              "      <td>2</td>\n",
              "    </tr>\n",
              "    <tr>\n",
              "      <th>3</th>\n",
              "      <td>47000</td>\n",
              "      <td>3000</td>\n",
              "      <td>0</td>\n",
              "      <td>JAKARTA</td>\n",
              "      <td>AA</td>\n",
              "      <td>15000</td>\n",
              "      <td>12000</td>\n",
              "      <td>50000</td>\n",
              "      <td>3</td>\n",
              "    </tr>\n",
              "    <tr>\n",
              "      <th>4</th>\n",
              "      <td>41500</td>\n",
              "      <td>3500</td>\n",
              "      <td>0</td>\n",
              "      <td>BANDUNG</td>\n",
              "      <td>BB</td>\n",
              "      <td>20000</td>\n",
              "      <td>12000</td>\n",
              "      <td>45000</td>\n",
              "      <td>0</td>\n",
              "    </tr>\n",
              "    <tr>\n",
              "      <th>5</th>\n",
              "      <td>42500</td>\n",
              "      <td>2500</td>\n",
              "      <td>0</td>\n",
              "      <td>YOGYA</td>\n",
              "      <td>BB</td>\n",
              "      <td>20000</td>\n",
              "      <td>11000</td>\n",
              "      <td>45000</td>\n",
              "      <td>1</td>\n",
              "    </tr>\n",
              "    <tr>\n",
              "      <th>6</th>\n",
              "      <td>42000</td>\n",
              "      <td>3000</td>\n",
              "      <td>0</td>\n",
              "      <td>MALANG</td>\n",
              "      <td>BB</td>\n",
              "      <td>20000</td>\n",
              "      <td>8500</td>\n",
              "      <td>45000</td>\n",
              "      <td>2</td>\n",
              "    </tr>\n",
              "    <tr>\n",
              "      <th>7</th>\n",
              "      <td>42000</td>\n",
              "      <td>3000</td>\n",
              "      <td>0</td>\n",
              "      <td>JAKARTA</td>\n",
              "      <td>BB</td>\n",
              "      <td>20000</td>\n",
              "      <td>7000</td>\n",
              "      <td>45000</td>\n",
              "      <td>3</td>\n",
              "    </tr>\n",
              "    <tr>\n",
              "      <th>8</th>\n",
              "      <td>56500</td>\n",
              "      <td>3500</td>\n",
              "      <td>0</td>\n",
              "      <td>BANDUNG</td>\n",
              "      <td>CC</td>\n",
              "      <td>12000</td>\n",
              "      <td>12000</td>\n",
              "      <td>60000</td>\n",
              "      <td>0</td>\n",
              "    </tr>\n",
              "    <tr>\n",
              "      <th>9</th>\n",
              "      <td>57500</td>\n",
              "      <td>2500</td>\n",
              "      <td>0</td>\n",
              "      <td>YOGYA</td>\n",
              "      <td>CC</td>\n",
              "      <td>12000</td>\n",
              "      <td>10500</td>\n",
              "      <td>60000</td>\n",
              "      <td>1</td>\n",
              "    </tr>\n",
              "  </tbody>\n",
              "</table>\n",
              "</div>"
            ],
            "text/plain": [
              "    nett  cost  plant   branch type  capacity  demand  margin  branch_id\n",
              "0  46500  3500      0  BANDUNG   AA     15000   20000   50000          0\n",
              "1  47500  2500      0    YOGYA   AA     15000   15000   50000          1\n",
              "2  47000  3000      0   MALANG   AA     15000   15000   50000          2\n",
              "3  47000  3000      0  JAKARTA   AA     15000   12000   50000          3\n",
              "4  41500  3500      0  BANDUNG   BB     20000   12000   45000          0\n",
              "5  42500  2500      0    YOGYA   BB     20000   11000   45000          1\n",
              "6  42000  3000      0   MALANG   BB     20000    8500   45000          2\n",
              "7  42000  3000      0  JAKARTA   BB     20000    7000   45000          3\n",
              "8  56500  3500      0  BANDUNG   CC     12000   12000   60000          0\n",
              "9  57500  2500      0    YOGYA   CC     12000   10500   60000          1"
            ]
          },
          "metadata": {
            "tags": []
          },
          "execution_count": 58
        }
      ]
    },
    {
      "cell_type": "code",
      "metadata": {
        "id": "-bK7LA8r9NPC"
      },
      "source": [
        "data = {}\n",
        "type = ['AA', 'BB', 'CC']\n",
        "for i in type:\n",
        "  data[i] = data_all[data_all['type'] == i]"
      ],
      "execution_count": null,
      "outputs": []
    },
    {
      "cell_type": "markdown",
      "metadata": {
        "id": "YMTjylZdIfpR"
      },
      "source": [
        "## Balancing the data \n",
        "* if supply > demand then add the dummy column\n",
        "* if supply < demand then add the dummy row\n",
        "\n",
        "\n"
      ]
    },
    {
      "cell_type": "code",
      "metadata": {
        "id": "vdkL7vrRbZmi"
      },
      "source": [
        "def balancing(data, supply, demand, supply_id, demand_id, cost, penalties = None):\n",
        "  total_supply = sum(data.groupby(supply_id)[supply].min())\n",
        "  total_demand = sum(data.groupby(demand_id)[demand].min())\n",
        "  nrow = data.groupby(supply_id).count().shape[0]\n",
        "  ncol = data.groupby(demand_id).count().shape[0]\n",
        "  # supply and demand is already balance\n",
        "  if total_supply == total_demand:\n",
        "    return data[[supply_id, demand_id, supply, demand, cost]]\n",
        "  # demand is greater than supply, \n",
        "  # default penalties cost is 0\n",
        "  if total_supply < total_demand:\n",
        "    for i in range(ncol):\n",
        "      new_supply_id = nrow \n",
        "      new_demand_id = i\n",
        "      new_supply = total_demand - total_supply\n",
        "      new_demand = data[data[demand_id] == i][demand].min()\n",
        "      if penalties is None:\n",
        "        new_cost = 0\n",
        "      else:\n",
        "        new_cost = penalties[i]\n",
        "      data = data.append({supply_id: new_supply_id,\n",
        "                          demand_id: new_demand_id,\n",
        "                          supply: new_supply,\n",
        "                          demand: new_demand,\n",
        "                          cost: new_cost}, ignore_index=True)\n",
        "    return data[[supply_id, demand_id, supply, demand, cost]]\n",
        "    # supply is greater than demand\n",
        "    # no penalties cost because they dont lose the consumer\n",
        "  if total_supply > total_demand:\n",
        "    for i in range(nrow):\n",
        "      new_supply_id = i \n",
        "      new_demand_id = ncol\n",
        "      new_supply = data[data[supply_id] == i][supply].min()\n",
        "      new_demand = total_supply - total_demand\n",
        "      new_cost = 0\n",
        "      data = data.append({supply_id: new_supply_id,\n",
        "                          demand_id: new_demand_id,\n",
        "                          supply: new_supply,\n",
        "                          demand: new_demand,\n",
        "                          cost: new_cost}, ignore_index=True)\n",
        "    return data[[supply_id, demand_id, supply, demand, cost]]"
      ],
      "execution_count": null,
      "outputs": []
    },
    {
      "cell_type": "markdown",
      "metadata": {
        "id": "7WSj9Z8QFDQS"
      },
      "source": [
        "#Using Least Cost Method"
      ]
    },
    {
      "cell_type": "code",
      "metadata": {
        "id": "WLOx4higfVmb"
      },
      "source": [
        "# Least Cost Method\n",
        "def LeastCost(data, supply, demand, supply_id, demand_id, cost, obj='min'):\n",
        "  data1 = data.copy()\n",
        "  # if the objective is to maximize problem (obj='max')\n",
        "  ## then we convert cost value by substract all data by highest cost value\n",
        "  ### then it become minimization problem as usual\n",
        "  if obj == 'max':\n",
        "    data1[cost] = data1[cost] - max(data1[cost])\n",
        "    data1[cost] = data1[cost].abs()\n",
        "  if obj != 'max' and obj != 'min':\n",
        "    raise Exception(\"use objective 'min' [default] for minimalization or 'max' for maximization problem\")  \n",
        "  \n",
        "  data2 = balancing(data1, supply, demand, supply_id, demand_id, cost)\n",
        "  data2['optimize'] = 0 \n",
        "  n = data2.shape[0] \n",
        "  for i in range(n):\n",
        "    # finding minimum cost value\n",
        "    minval = min(data2[cost])\n",
        "    minval_df = data2[data2[cost] == minval]\n",
        "    # find optimal allocation\n",
        "    min_alo = minval_df[[supply,demand]].min(axis=1)\n",
        "    alo = min_alo.nsmallest(1)\n",
        "    # assign allocation\n",
        "    data2.loc[alo.index, 'optimize'] = alo.values[0]\n",
        "    # updating supply\n",
        "    row = data2.loc[alo.index, supply_id].values[0]\n",
        "    row_idx = data2[data2[supply_id] == row].index\n",
        "    new_supply = data2.loc[alo.index, supply].values[0] - alo.values[0]\n",
        "    data2.loc[row_idx, supply] = new_supply\n",
        "    # updating demand\n",
        "    col = data2.loc[alo.index, demand_id].values[0]\n",
        "    col_idx = data2[data2[demand_id] == col].index\n",
        "    new_demand = data2.loc[alo.index, demand].values[0] - alo.values[0]\n",
        "    data2.loc[col_idx, demand] = new_demand\n",
        "    # remove cost \n",
        "    ## using infinity number to prevent chosen by minimum value\n",
        "    data2.loc[alo.index, cost] = np.inf \n",
        "  # return origin data before transformation for maximize problem obj='max'\n",
        "  data3 = balancing(data, supply, demand, supply_id, demand_id, cost)\n",
        "  return pd.concat([data3, data2['optimize']], axis=1)"
      ],
      "execution_count": null,
      "outputs": []
    },
    {
      "cell_type": "code",
      "metadata": {
        "id": "HUmUAYT8mO1r"
      },
      "source": [
        "# Run the Least Cost method to All Data\n",
        "output = {'cost':{}, 'margin':{}, 'nett':{}}\n",
        "\n",
        "for keys in output:\n",
        "  LC = {}\n",
        "  nett_margin = {}\n",
        "  table_opt = {}\n",
        "  type = ['AA','BB','CC']\n",
        "  for i in type:\n",
        "    if keys == 'cost':\n",
        "      objj = 'min'\n",
        "    else:\n",
        "      objj = 'max'\n",
        "    LC[i] = LeastCost(data[i], supply='capacity', demand='demand', \n",
        "                    supply_id='plant', demand_id='branch_id', cost=keys, obj=objj)\n",
        "    table_opt[i] = pd.pivot_table(data=LC[i], index='plant', \n",
        "                                  columns='branch_id', values='optimize')\n",
        "    margin_df = LC[i].merge(data[i], how='inner')\n",
        "    # Calculate total net margin\n",
        "    margin_df['calc'] = margin_df['optimize'] * margin_df['nett']\n",
        "    nett_margin[i] = margin_df['calc'].sum()\n",
        "  output[keys] = {'LC': LC, \n",
        "                  'table_opt': table_opt, \n",
        "                  'nett_margin': nett_margin}"
      ],
      "execution_count": null,
      "outputs": []
    },
    {
      "cell_type": "markdown",
      "metadata": {
        "id": "KHLrOyMMFRnr"
      },
      "source": [
        "## Output Base of Minimum Cost"
      ]
    },
    {
      "cell_type": "code",
      "metadata": {
        "colab": {
          "base_uri": "https://localhost:8080/"
        },
        "id": "AtDr3vjk8yPF",
        "outputId": "b2efcb8c-6d7c-4a16-fc46-147d01aefd7d"
      },
      "source": [
        "output['cost']['nett_margin']"
      ],
      "execution_count": null,
      "outputs": [
        {
          "output_type": "execute_result",
          "data": {
            "text/plain": [
              "{'AA': 2902800000.0, 'BB': 1708700000.0, 'CC': 2381150000.0}"
            ]
          },
          "metadata": {
            "tags": []
          },
          "execution_count": 63
        }
      ]
    },
    {
      "cell_type": "code",
      "metadata": {
        "colab": {
          "base_uri": "https://localhost:8080/",
          "height": 204
        },
        "id": "1t-jFj-xCgJm",
        "outputId": "ad0e1c88-2d3e-4929-943e-83775f583289"
      },
      "source": [
        "# Optimal allocation table for AA product\n",
        "output['cost']['table_opt']['AA']"
      ],
      "execution_count": null,
      "outputs": [
        {
          "output_type": "execute_result",
          "data": {
            "text/html": [
              "<div>\n",
              "<style scoped>\n",
              "    .dataframe tbody tr th:only-of-type {\n",
              "        vertical-align: middle;\n",
              "    }\n",
              "\n",
              "    .dataframe tbody tr th {\n",
              "        vertical-align: top;\n",
              "    }\n",
              "\n",
              "    .dataframe thead th {\n",
              "        text-align: right;\n",
              "    }\n",
              "</style>\n",
              "<table border=\"1\" class=\"dataframe\">\n",
              "  <thead>\n",
              "    <tr style=\"text-align: right;\">\n",
              "      <th>branch_id</th>\n",
              "      <th>0.0</th>\n",
              "      <th>1.0</th>\n",
              "      <th>2.0</th>\n",
              "      <th>3.0</th>\n",
              "    </tr>\n",
              "    <tr>\n",
              "      <th>plant</th>\n",
              "      <th></th>\n",
              "      <th></th>\n",
              "      <th></th>\n",
              "      <th></th>\n",
              "    </tr>\n",
              "  </thead>\n",
              "  <tbody>\n",
              "    <tr>\n",
              "      <th>0.0</th>\n",
              "      <td>0.0</td>\n",
              "      <td>0.0</td>\n",
              "      <td>3000.0</td>\n",
              "      <td>12000.0</td>\n",
              "    </tr>\n",
              "    <tr>\n",
              "      <th>1.0</th>\n",
              "      <td>0.0</td>\n",
              "      <td>15000.0</td>\n",
              "      <td>7000.0</td>\n",
              "      <td>0.0</td>\n",
              "    </tr>\n",
              "    <tr>\n",
              "      <th>2.0</th>\n",
              "      <td>15000.0</td>\n",
              "      <td>0.0</td>\n",
              "      <td>5000.0</td>\n",
              "      <td>0.0</td>\n",
              "    </tr>\n",
              "    <tr>\n",
              "      <th>3.0</th>\n",
              "      <td>5000.0</td>\n",
              "      <td>0.0</td>\n",
              "      <td>0.0</td>\n",
              "      <td>0.0</td>\n",
              "    </tr>\n",
              "  </tbody>\n",
              "</table>\n",
              "</div>"
            ],
            "text/plain": [
              "branch_id      0.0      1.0     2.0      3.0\n",
              "plant                                       \n",
              "0.0            0.0      0.0  3000.0  12000.0\n",
              "1.0            0.0  15000.0  7000.0      0.0\n",
              "2.0        15000.0      0.0  5000.0      0.0\n",
              "3.0         5000.0      0.0     0.0      0.0"
            ]
          },
          "metadata": {
            "tags": []
          },
          "execution_count": 64
        }
      ]
    },
    {
      "cell_type": "code",
      "metadata": {
        "colab": {
          "base_uri": "https://localhost:8080/",
          "height": 173
        },
        "id": "z1kKkX8WGTsE",
        "outputId": "8ae28f56-fec6-4754-fa63-87f6e5ee0c87"
      },
      "source": [
        "output['cost']['table_opt']['BB']"
      ],
      "execution_count": null,
      "outputs": [
        {
          "output_type": "execute_result",
          "data": {
            "text/html": [
              "<div>\n",
              "<style scoped>\n",
              "    .dataframe tbody tr th:only-of-type {\n",
              "        vertical-align: middle;\n",
              "    }\n",
              "\n",
              "    .dataframe tbody tr th {\n",
              "        vertical-align: top;\n",
              "    }\n",
              "\n",
              "    .dataframe thead th {\n",
              "        text-align: right;\n",
              "    }\n",
              "</style>\n",
              "<table border=\"1\" class=\"dataframe\">\n",
              "  <thead>\n",
              "    <tr style=\"text-align: right;\">\n",
              "      <th>branch_id</th>\n",
              "      <th>0.0</th>\n",
              "      <th>1.0</th>\n",
              "      <th>2.0</th>\n",
              "      <th>3.0</th>\n",
              "      <th>4.0</th>\n",
              "    </tr>\n",
              "    <tr>\n",
              "      <th>plant</th>\n",
              "      <th></th>\n",
              "      <th></th>\n",
              "      <th></th>\n",
              "      <th></th>\n",
              "      <th></th>\n",
              "    </tr>\n",
              "  </thead>\n",
              "  <tbody>\n",
              "    <tr>\n",
              "      <th>0.0</th>\n",
              "      <td>0.0</td>\n",
              "      <td>0.0</td>\n",
              "      <td>6500.0</td>\n",
              "      <td>7000.0</td>\n",
              "      <td>6500.0</td>\n",
              "    </tr>\n",
              "    <tr>\n",
              "      <th>1.0</th>\n",
              "      <td>2000.0</td>\n",
              "      <td>11000.0</td>\n",
              "      <td>2000.0</td>\n",
              "      <td>0.0</td>\n",
              "      <td>0.0</td>\n",
              "    </tr>\n",
              "    <tr>\n",
              "      <th>2.0</th>\n",
              "      <td>10000.0</td>\n",
              "      <td>0.0</td>\n",
              "      <td>0.0</td>\n",
              "      <td>0.0</td>\n",
              "      <td>0.0</td>\n",
              "    </tr>\n",
              "  </tbody>\n",
              "</table>\n",
              "</div>"
            ],
            "text/plain": [
              "branch_id      0.0      1.0     2.0     3.0     4.0\n",
              "plant                                              \n",
              "0.0            0.0      0.0  6500.0  7000.0  6500.0\n",
              "1.0         2000.0  11000.0  2000.0     0.0     0.0\n",
              "2.0        10000.0      0.0     0.0     0.0     0.0"
            ]
          },
          "metadata": {
            "tags": []
          },
          "execution_count": 65
        }
      ]
    },
    {
      "cell_type": "code",
      "metadata": {
        "colab": {
          "base_uri": "https://localhost:8080/",
          "height": 173
        },
        "id": "k3u0OYsfGchm",
        "outputId": "cfddaddc-02aa-4cb8-8683-8a9014032e83"
      },
      "source": [
        "output['cost']['table_opt']['CC']"
      ],
      "execution_count": null,
      "outputs": [
        {
          "output_type": "execute_result",
          "data": {
            "text/html": [
              "<div>\n",
              "<style scoped>\n",
              "    .dataframe tbody tr th:only-of-type {\n",
              "        vertical-align: middle;\n",
              "    }\n",
              "\n",
              "    .dataframe tbody tr th {\n",
              "        vertical-align: top;\n",
              "    }\n",
              "\n",
              "    .dataframe thead th {\n",
              "        text-align: right;\n",
              "    }\n",
              "</style>\n",
              "<table border=\"1\" class=\"dataframe\">\n",
              "  <thead>\n",
              "    <tr style=\"text-align: right;\">\n",
              "      <th>branch_id</th>\n",
              "      <th>0.0</th>\n",
              "      <th>1.0</th>\n",
              "      <th>2.0</th>\n",
              "      <th>3.0</th>\n",
              "      <th>4.0</th>\n",
              "    </tr>\n",
              "    <tr>\n",
              "      <th>plant</th>\n",
              "      <th></th>\n",
              "      <th></th>\n",
              "      <th></th>\n",
              "      <th></th>\n",
              "      <th></th>\n",
              "    </tr>\n",
              "  </thead>\n",
              "  <tbody>\n",
              "    <tr>\n",
              "      <th>0.0</th>\n",
              "      <td>0.0</td>\n",
              "      <td>0.0</td>\n",
              "      <td>0.0</td>\n",
              "      <td>0.0</td>\n",
              "      <td>12000.0</td>\n",
              "    </tr>\n",
              "    <tr>\n",
              "      <th>1.0</th>\n",
              "      <td>0.0</td>\n",
              "      <td>10500.0</td>\n",
              "      <td>4000.0</td>\n",
              "      <td>0.0</td>\n",
              "      <td>500.0</td>\n",
              "    </tr>\n",
              "    <tr>\n",
              "      <th>2.0</th>\n",
              "      <td>12000.0</td>\n",
              "      <td>0.0</td>\n",
              "      <td>5000.0</td>\n",
              "      <td>10000.0</td>\n",
              "      <td>0.0</td>\n",
              "    </tr>\n",
              "  </tbody>\n",
              "</table>\n",
              "</div>"
            ],
            "text/plain": [
              "branch_id      0.0      1.0     2.0      3.0      4.0\n",
              "plant                                                \n",
              "0.0            0.0      0.0     0.0      0.0  12000.0\n",
              "1.0            0.0  10500.0  4000.0      0.0    500.0\n",
              "2.0        12000.0      0.0  5000.0  10000.0      0.0"
            ]
          },
          "metadata": {
            "tags": []
          },
          "execution_count": 66
        }
      ]
    },
    {
      "cell_type": "code",
      "metadata": {
        "colab": {
          "base_uri": "https://localhost:8080/"
        },
        "id": "6lUr7Bi_h3r2",
        "outputId": "f006d006-74ad-40d6-d03a-81fb270ebd41"
      },
      "source": [
        "# total nett margin\n",
        "sum(output['cost']['nett_margin'].values())"
      ],
      "execution_count": null,
      "outputs": [
        {
          "output_type": "execute_result",
          "data": {
            "text/plain": [
              "6992650000.0"
            ]
          },
          "metadata": {
            "tags": []
          },
          "execution_count": 67
        }
      ]
    },
    {
      "cell_type": "markdown",
      "metadata": {
        "id": "n5fqdOveGgxA"
      },
      "source": [
        "## Output Base of Maximum Margin"
      ]
    },
    {
      "cell_type": "code",
      "metadata": {
        "colab": {
          "base_uri": "https://localhost:8080/"
        },
        "id": "eu8AsF51GVs5",
        "outputId": "de4d666e-65ac-4737-b5ba-04d21fd3d234"
      },
      "source": [
        "output['margin']['nett_margin']"
      ],
      "execution_count": null,
      "outputs": [
        {
          "output_type": "execute_result",
          "data": {
            "text/plain": [
              "{'AA': 2876300000.0, 'BB': 1670300000.0, 'CC': 2359300000.0}"
            ]
          },
          "metadata": {
            "tags": []
          },
          "execution_count": 68
        }
      ]
    },
    {
      "cell_type": "code",
      "metadata": {
        "colab": {
          "base_uri": "https://localhost:8080/"
        },
        "id": "wZnh6AI1G5ov",
        "outputId": "cf2ddf90-a70a-47ce-b1be-00ac9f695acd"
      },
      "source": [
        "output['margin']['table_opt']['AA']"
      ],
      "execution_count": null,
      "outputs": [
        {
          "output_type": "execute_result",
          "data": {
            "text/html": [
              "<div>\n",
              "<style scoped>\n",
              "    .dataframe tbody tr th:only-of-type {\n",
              "        vertical-align: middle;\n",
              "    }\n",
              "\n",
              "    .dataframe tbody tr th {\n",
              "        vertical-align: top;\n",
              "    }\n",
              "\n",
              "    .dataframe thead th {\n",
              "        text-align: right;\n",
              "    }\n",
              "</style>\n",
              "<table border=\"1\" class=\"dataframe\">\n",
              "  <thead>\n",
              "    <tr style=\"text-align: right;\">\n",
              "      <th>branch_id</th>\n",
              "      <th>0.0</th>\n",
              "      <th>1.0</th>\n",
              "      <th>2.0</th>\n",
              "      <th>3.0</th>\n",
              "    </tr>\n",
              "    <tr>\n",
              "      <th>plant</th>\n",
              "      <th></th>\n",
              "      <th></th>\n",
              "      <th></th>\n",
              "      <th></th>\n",
              "    </tr>\n",
              "  </thead>\n",
              "  <tbody>\n",
              "    <tr>\n",
              "      <th>0.0</th>\n",
              "      <td>7000.0</td>\n",
              "      <td>8000.0</td>\n",
              "      <td>0.0</td>\n",
              "      <td>0.0</td>\n",
              "    </tr>\n",
              "    <tr>\n",
              "      <th>1.0</th>\n",
              "      <td>0.0</td>\n",
              "      <td>7000.0</td>\n",
              "      <td>15000.0</td>\n",
              "      <td>0.0</td>\n",
              "    </tr>\n",
              "    <tr>\n",
              "      <th>2.0</th>\n",
              "      <td>8000.0</td>\n",
              "      <td>0.0</td>\n",
              "      <td>0.0</td>\n",
              "      <td>12000.0</td>\n",
              "    </tr>\n",
              "    <tr>\n",
              "      <th>3.0</th>\n",
              "      <td>5000.0</td>\n",
              "      <td>0.0</td>\n",
              "      <td>0.0</td>\n",
              "      <td>0.0</td>\n",
              "    </tr>\n",
              "  </tbody>\n",
              "</table>\n",
              "</div>"
            ],
            "text/plain": [
              "branch_id     0.0     1.0      2.0      3.0\n",
              "plant                                      \n",
              "0.0        7000.0  8000.0      0.0      0.0\n",
              "1.0           0.0  7000.0  15000.0      0.0\n",
              "2.0        8000.0     0.0      0.0  12000.0\n",
              "3.0        5000.0     0.0      0.0      0.0"
            ]
          },
          "metadata": {
            "tags": []
          },
          "execution_count": 69
        }
      ]
    },
    {
      "cell_type": "code",
      "metadata": {
        "colab": {
          "base_uri": "https://localhost:8080/"
        },
        "id": "93tWpJ1BHPwA",
        "outputId": "3b4b3b89-6ce8-4fa2-b78b-43f35a799efc"
      },
      "source": [
        "output['margin']['table_opt']['BB']"
      ],
      "execution_count": null,
      "outputs": [
        {
          "output_type": "execute_result",
          "data": {
            "text/html": [
              "<div>\n",
              "<style scoped>\n",
              "    .dataframe tbody tr th:only-of-type {\n",
              "        vertical-align: middle;\n",
              "    }\n",
              "\n",
              "    .dataframe tbody tr th {\n",
              "        vertical-align: top;\n",
              "    }\n",
              "\n",
              "    .dataframe thead th {\n",
              "        text-align: right;\n",
              "    }\n",
              "</style>\n",
              "<table border=\"1\" class=\"dataframe\">\n",
              "  <thead>\n",
              "    <tr style=\"text-align: right;\">\n",
              "      <th>branch_id</th>\n",
              "      <th>0.0</th>\n",
              "      <th>1.0</th>\n",
              "      <th>2.0</th>\n",
              "      <th>3.0</th>\n",
              "      <th>4.0</th>\n",
              "    </tr>\n",
              "    <tr>\n",
              "      <th>plant</th>\n",
              "      <th></th>\n",
              "      <th></th>\n",
              "      <th></th>\n",
              "      <th></th>\n",
              "      <th></th>\n",
              "    </tr>\n",
              "  </thead>\n",
              "  <tbody>\n",
              "    <tr>\n",
              "      <th>0.0</th>\n",
              "      <td>4000.0</td>\n",
              "      <td>1000.0</td>\n",
              "      <td>8500.0</td>\n",
              "      <td>0.0</td>\n",
              "      <td>6500.0</td>\n",
              "    </tr>\n",
              "    <tr>\n",
              "      <th>1.0</th>\n",
              "      <td>8000.0</td>\n",
              "      <td>0.0</td>\n",
              "      <td>0.0</td>\n",
              "      <td>7000.0</td>\n",
              "      <td>0.0</td>\n",
              "    </tr>\n",
              "    <tr>\n",
              "      <th>2.0</th>\n",
              "      <td>0.0</td>\n",
              "      <td>10000.0</td>\n",
              "      <td>0.0</td>\n",
              "      <td>0.0</td>\n",
              "      <td>0.0</td>\n",
              "    </tr>\n",
              "  </tbody>\n",
              "</table>\n",
              "</div>"
            ],
            "text/plain": [
              "branch_id     0.0      1.0     2.0     3.0     4.0\n",
              "plant                                             \n",
              "0.0        4000.0   1000.0  8500.0     0.0  6500.0\n",
              "1.0        8000.0      0.0     0.0  7000.0     0.0\n",
              "2.0           0.0  10000.0     0.0     0.0     0.0"
            ]
          },
          "metadata": {
            "tags": []
          },
          "execution_count": 70
        }
      ]
    },
    {
      "cell_type": "code",
      "metadata": {
        "colab": {
          "base_uri": "https://localhost:8080/"
        },
        "id": "7uIAWg-6HRdb",
        "outputId": "94e5ec5d-cbbd-4c0a-e3e4-c54a0d12e583"
      },
      "source": [
        "output['margin']['table_opt']['CC']"
      ],
      "execution_count": null,
      "outputs": [
        {
          "output_type": "execute_result",
          "data": {
            "text/html": [
              "<div>\n",
              "<style scoped>\n",
              "    .dataframe tbody tr th:only-of-type {\n",
              "        vertical-align: middle;\n",
              "    }\n",
              "\n",
              "    .dataframe tbody tr th {\n",
              "        vertical-align: top;\n",
              "    }\n",
              "\n",
              "    .dataframe thead th {\n",
              "        text-align: right;\n",
              "    }\n",
              "</style>\n",
              "<table border=\"1\" class=\"dataframe\">\n",
              "  <thead>\n",
              "    <tr style=\"text-align: right;\">\n",
              "      <th>branch_id</th>\n",
              "      <th>0.0</th>\n",
              "      <th>1.0</th>\n",
              "      <th>2.0</th>\n",
              "      <th>3.0</th>\n",
              "      <th>4.0</th>\n",
              "    </tr>\n",
              "    <tr>\n",
              "      <th>plant</th>\n",
              "      <th></th>\n",
              "      <th></th>\n",
              "      <th></th>\n",
              "      <th></th>\n",
              "      <th></th>\n",
              "    </tr>\n",
              "  </thead>\n",
              "  <tbody>\n",
              "    <tr>\n",
              "      <th>0.0</th>\n",
              "      <td>0.0</td>\n",
              "      <td>0.0</td>\n",
              "      <td>0.0</td>\n",
              "      <td>0.0</td>\n",
              "      <td>12000.0</td>\n",
              "    </tr>\n",
              "    <tr>\n",
              "      <th>1.0</th>\n",
              "      <td>6000.0</td>\n",
              "      <td>0.0</td>\n",
              "      <td>9000.0</td>\n",
              "      <td>0.0</td>\n",
              "      <td>0.0</td>\n",
              "    </tr>\n",
              "    <tr>\n",
              "      <th>2.0</th>\n",
              "      <td>6000.0</td>\n",
              "      <td>10500.0</td>\n",
              "      <td>0.0</td>\n",
              "      <td>10000.0</td>\n",
              "      <td>500.0</td>\n",
              "    </tr>\n",
              "  </tbody>\n",
              "</table>\n",
              "</div>"
            ],
            "text/plain": [
              "branch_id     0.0      1.0     2.0      3.0      4.0\n",
              "plant                                               \n",
              "0.0           0.0      0.0     0.0      0.0  12000.0\n",
              "1.0        6000.0      0.0  9000.0      0.0      0.0\n",
              "2.0        6000.0  10500.0     0.0  10000.0    500.0"
            ]
          },
          "metadata": {
            "tags": []
          },
          "execution_count": 71
        }
      ]
    },
    {
      "cell_type": "code",
      "metadata": {
        "colab": {
          "base_uri": "https://localhost:8080/"
        },
        "id": "_RbKxVPz_7c4",
        "outputId": "2d1268e8-63e8-4925-8927-0b16d721b89c"
      },
      "source": [
        "sum(output['margin']['nett_margin'].values())"
      ],
      "execution_count": null,
      "outputs": [
        {
          "output_type": "execute_result",
          "data": {
            "text/plain": [
              "6905900000.0"
            ]
          },
          "metadata": {
            "tags": []
          },
          "execution_count": 72
        }
      ]
    },
    {
      "cell_type": "markdown",
      "metadata": {
        "id": "-mtEEpkEHgER"
      },
      "source": [
        "## Output Base of Maximum Nett Margin"
      ]
    },
    {
      "cell_type": "code",
      "metadata": {
        "colab": {
          "base_uri": "https://localhost:8080/"
        },
        "id": "T4qdOh9GHp-j",
        "outputId": "40236e0b-918c-4203-b5e4-3a289712c008"
      },
      "source": [
        "output['nett']['nett_margin']"
      ],
      "execution_count": null,
      "outputs": [
        {
          "output_type": "execute_result",
          "data": {
            "text/plain": [
              "{'AA': 2899300000.0, 'BB': 1708500000.0, 'CC': 2341550000.0}"
            ]
          },
          "metadata": {
            "tags": []
          },
          "execution_count": 73
        }
      ]
    },
    {
      "cell_type": "code",
      "metadata": {
        "colab": {
          "base_uri": "https://localhost:8080/"
        },
        "id": "C2dhiuI5HyHY",
        "outputId": "c8d09ae9-2e8e-4e31-bfd4-f97e898870ce"
      },
      "source": [
        "output['nett']['table_opt']['AA']"
      ],
      "execution_count": null,
      "outputs": [
        {
          "output_type": "execute_result",
          "data": {
            "text/html": [
              "<div>\n",
              "<style scoped>\n",
              "    .dataframe tbody tr th:only-of-type {\n",
              "        vertical-align: middle;\n",
              "    }\n",
              "\n",
              "    .dataframe tbody tr th {\n",
              "        vertical-align: top;\n",
              "    }\n",
              "\n",
              "    .dataframe thead th {\n",
              "        text-align: right;\n",
              "    }\n",
              "</style>\n",
              "<table border=\"1\" class=\"dataframe\">\n",
              "  <thead>\n",
              "    <tr style=\"text-align: right;\">\n",
              "      <th>branch_id</th>\n",
              "      <th>0.0</th>\n",
              "      <th>1.0</th>\n",
              "      <th>2.0</th>\n",
              "      <th>3.0</th>\n",
              "    </tr>\n",
              "    <tr>\n",
              "      <th>plant</th>\n",
              "      <th></th>\n",
              "      <th></th>\n",
              "      <th></th>\n",
              "      <th></th>\n",
              "    </tr>\n",
              "  </thead>\n",
              "  <tbody>\n",
              "    <tr>\n",
              "      <th>0.0</th>\n",
              "      <td>0.0</td>\n",
              "      <td>0.0</td>\n",
              "      <td>10000.0</td>\n",
              "      <td>5000.0</td>\n",
              "    </tr>\n",
              "    <tr>\n",
              "      <th>1.0</th>\n",
              "      <td>0.0</td>\n",
              "      <td>15000.0</td>\n",
              "      <td>0.0</td>\n",
              "      <td>7000.0</td>\n",
              "    </tr>\n",
              "    <tr>\n",
              "      <th>2.0</th>\n",
              "      <td>15000.0</td>\n",
              "      <td>0.0</td>\n",
              "      <td>5000.0</td>\n",
              "      <td>0.0</td>\n",
              "    </tr>\n",
              "    <tr>\n",
              "      <th>3.0</th>\n",
              "      <td>5000.0</td>\n",
              "      <td>0.0</td>\n",
              "      <td>0.0</td>\n",
              "      <td>0.0</td>\n",
              "    </tr>\n",
              "  </tbody>\n",
              "</table>\n",
              "</div>"
            ],
            "text/plain": [
              "branch_id      0.0      1.0      2.0     3.0\n",
              "plant                                       \n",
              "0.0            0.0      0.0  10000.0  5000.0\n",
              "1.0            0.0  15000.0      0.0  7000.0\n",
              "2.0        15000.0      0.0   5000.0     0.0\n",
              "3.0         5000.0      0.0      0.0     0.0"
            ]
          },
          "metadata": {
            "tags": []
          },
          "execution_count": 74
        }
      ]
    },
    {
      "cell_type": "code",
      "metadata": {
        "colab": {
          "base_uri": "https://localhost:8080/"
        },
        "id": "Bbx7M2hdH2pD",
        "outputId": "0b373055-22d8-4a41-f189-3e541f3f0fca"
      },
      "source": [
        "output['nett']['table_opt']['BB']"
      ],
      "execution_count": null,
      "outputs": [
        {
          "output_type": "execute_result",
          "data": {
            "text/html": [
              "<div>\n",
              "<style scoped>\n",
              "    .dataframe tbody tr th:only-of-type {\n",
              "        vertical-align: middle;\n",
              "    }\n",
              "\n",
              "    .dataframe tbody tr th {\n",
              "        vertical-align: top;\n",
              "    }\n",
              "\n",
              "    .dataframe thead th {\n",
              "        text-align: right;\n",
              "    }\n",
              "</style>\n",
              "<table border=\"1\" class=\"dataframe\">\n",
              "  <thead>\n",
              "    <tr style=\"text-align: right;\">\n",
              "      <th>branch_id</th>\n",
              "      <th>0.0</th>\n",
              "      <th>1.0</th>\n",
              "      <th>2.0</th>\n",
              "      <th>3.0</th>\n",
              "      <th>4.0</th>\n",
              "    </tr>\n",
              "    <tr>\n",
              "      <th>plant</th>\n",
              "      <th></th>\n",
              "      <th></th>\n",
              "      <th></th>\n",
              "      <th></th>\n",
              "      <th></th>\n",
              "    </tr>\n",
              "  </thead>\n",
              "  <tbody>\n",
              "    <tr>\n",
              "      <th>0.0</th>\n",
              "      <td>2000.0</td>\n",
              "      <td>0.0</td>\n",
              "      <td>4500.0</td>\n",
              "      <td>7000.0</td>\n",
              "      <td>6500.0</td>\n",
              "    </tr>\n",
              "    <tr>\n",
              "      <th>1.0</th>\n",
              "      <td>0.0</td>\n",
              "      <td>11000.0</td>\n",
              "      <td>4000.0</td>\n",
              "      <td>0.0</td>\n",
              "      <td>0.0</td>\n",
              "    </tr>\n",
              "    <tr>\n",
              "      <th>2.0</th>\n",
              "      <td>10000.0</td>\n",
              "      <td>0.0</td>\n",
              "      <td>0.0</td>\n",
              "      <td>0.0</td>\n",
              "      <td>0.0</td>\n",
              "    </tr>\n",
              "  </tbody>\n",
              "</table>\n",
              "</div>"
            ],
            "text/plain": [
              "branch_id      0.0      1.0     2.0     3.0     4.0\n",
              "plant                                              \n",
              "0.0         2000.0      0.0  4500.0  7000.0  6500.0\n",
              "1.0            0.0  11000.0  4000.0     0.0     0.0\n",
              "2.0        10000.0      0.0     0.0     0.0     0.0"
            ]
          },
          "metadata": {
            "tags": []
          },
          "execution_count": 75
        }
      ]
    },
    {
      "cell_type": "code",
      "metadata": {
        "colab": {
          "base_uri": "https://localhost:8080/"
        },
        "id": "WXg3dAsVH3WM",
        "outputId": "be023cd3-9fdb-45ca-a148-078d61d4ce83"
      },
      "source": [
        "output['nett']['table_opt']['CC']"
      ],
      "execution_count": null,
      "outputs": [
        {
          "output_type": "execute_result",
          "data": {
            "text/html": [
              "<div>\n",
              "<style scoped>\n",
              "    .dataframe tbody tr th:only-of-type {\n",
              "        vertical-align: middle;\n",
              "    }\n",
              "\n",
              "    .dataframe tbody tr th {\n",
              "        vertical-align: top;\n",
              "    }\n",
              "\n",
              "    .dataframe thead th {\n",
              "        text-align: right;\n",
              "    }\n",
              "</style>\n",
              "<table border=\"1\" class=\"dataframe\">\n",
              "  <thead>\n",
              "    <tr style=\"text-align: right;\">\n",
              "      <th>branch_id</th>\n",
              "      <th>0.0</th>\n",
              "      <th>1.0</th>\n",
              "      <th>2.0</th>\n",
              "      <th>3.0</th>\n",
              "      <th>4.0</th>\n",
              "    </tr>\n",
              "    <tr>\n",
              "      <th>plant</th>\n",
              "      <th></th>\n",
              "      <th></th>\n",
              "      <th></th>\n",
              "      <th></th>\n",
              "      <th></th>\n",
              "    </tr>\n",
              "  </thead>\n",
              "  <tbody>\n",
              "    <tr>\n",
              "      <th>0.0</th>\n",
              "      <td>0.0</td>\n",
              "      <td>0.0</td>\n",
              "      <td>4000.0</td>\n",
              "      <td>0.0</td>\n",
              "      <td>8000.0</td>\n",
              "    </tr>\n",
              "    <tr>\n",
              "      <th>1.0</th>\n",
              "      <td>0.0</td>\n",
              "      <td>10500.0</td>\n",
              "      <td>0.0</td>\n",
              "      <td>0.0</td>\n",
              "      <td>4500.0</td>\n",
              "    </tr>\n",
              "    <tr>\n",
              "      <th>2.0</th>\n",
              "      <td>12000.0</td>\n",
              "      <td>0.0</td>\n",
              "      <td>5000.0</td>\n",
              "      <td>10000.0</td>\n",
              "      <td>0.0</td>\n",
              "    </tr>\n",
              "  </tbody>\n",
              "</table>\n",
              "</div>"
            ],
            "text/plain": [
              "branch_id      0.0      1.0     2.0      3.0     4.0\n",
              "plant                                               \n",
              "0.0            0.0      0.0  4000.0      0.0  8000.0\n",
              "1.0            0.0  10500.0     0.0      0.0  4500.0\n",
              "2.0        12000.0      0.0  5000.0  10000.0     0.0"
            ]
          },
          "metadata": {
            "tags": []
          },
          "execution_count": 76
        }
      ]
    },
    {
      "cell_type": "code",
      "metadata": {
        "colab": {
          "base_uri": "https://localhost:8080/"
        },
        "id": "LjxpBYXmAtjK",
        "outputId": "1087bdf7-e322-4de6-fa86-2a22c279662b"
      },
      "source": [
        "sum(output['nett']['nett_margin'].values())"
      ],
      "execution_count": null,
      "outputs": [
        {
          "output_type": "execute_result",
          "data": {
            "text/plain": [
              "6949350000.0"
            ]
          },
          "metadata": {
            "tags": []
          },
          "execution_count": 77
        }
      ]
    },
    {
      "cell_type": "markdown",
      "metadata": {
        "id": "A1wm_CPgICTF"
      },
      "source": [
        "# Using Vogel Aproximation Method (VAM)"
      ]
    },
    {
      "cell_type": "code",
      "metadata": {
        "id": "YXa_etBr943T"
      },
      "source": [
        "def find_diff(data, cost, column_id, column, n):\n",
        "  data['p'] = -np.inf\n",
        "  for i in range(n):\n",
        "    initial = data[data[column_id] == i]\n",
        "    if min(initial[column]) != 0:\n",
        "      two_small = initial.nsmallest(2, cost)\n",
        "      two_list = two_small[cost].tolist()\n",
        "      two_small_diff = two_list[1]- two_list[0]\n",
        "      data.loc[initial.index, 'p'] = two_small_diff\n",
        "    else:\n",
        "      data.loc[initial.index, 'p'] = -np.inf\n",
        "  return data[['p']]\n",
        "\n",
        "# function to create penalties cost by row (supply) & column (demand)\n",
        "def penalties(data, supply_id, demand_id, supply, demand,cost): \n",
        "  copy = data.copy()\n",
        "  nrow = copy.groupby(supply_id).count().shape[0]\n",
        "  ncol = copy.groupby(demand_id).count().shape[0]\n",
        "  a = find_diff(copy, cost, supply_id, supply, nrow)\n",
        "  b = find_diff(copy, cost, demand_id, demand, ncol)\n",
        "  ab = pd.concat([a,b], axis=1)\n",
        "  ab.columns = ['p_row', 'p_col']\n",
        "  return ab"
      ],
      "execution_count": null,
      "outputs": []
    },
    {
      "cell_type": "code",
      "metadata": {
        "id": "4KIuqA-bzYeN"
      },
      "source": [
        "# Vogel Aproximation Method\n",
        "def VAM(data, supply, demand, supply_id, demand_id, cost, obj='min'):\n",
        "  data1 = data.copy()\n",
        "  # if the objective is to maximize problem (obj='max')\n",
        "  ## then we convert cost value by substract all data by highest cost value\n",
        "  ### then it become minimization problem as usual\n",
        "  if obj == 'max':\n",
        "    data1[cost] = data1[cost] - max(data1[cost])\n",
        "    data1[cost] = data1[cost].abs()\n",
        "  if obj != 'max' and obj != 'min':\n",
        "    raise Exception(\"use objective 'min' [default] for minimalization or 'max' for maximization problem\")\n",
        "  \n",
        "  data2 = balancing(data1, supply, demand, supply_id, demand_id, cost)\n",
        "  n = data2.shape[0]\n",
        "  data2['optimize'] = 0\n",
        "  for i in range(n):\n",
        "    penalty = penalties(data2, supply_id, demand_id, supply, demand, cost)\n",
        "    vogel = pd.concat([data2,penalty], axis=1)\n",
        "    # find maximum penalties of row table & column table\n",
        "    max_prow = max(vogel['p_row'])\n",
        "    max_pcol = max(vogel['p_col'])\n",
        "    # there 2 condition, which is:\n",
        "    # 1.if maximum penalties of row table (supply) is not equal than maximum penalties of row table (supply)\n",
        "    # 2.otherwise\n",
        "    if max_prow != max_pcol:\n",
        "      if max_prow > max_pcol: \n",
        "        # find max penalties of row\n",
        "        find_pmax = vogel[vogel['p_row'] == max_prow]\n",
        "        # find min cost \n",
        "        find_cmin = find_pmax[find_pmax[cost] == min(find_pmax[cost])]\n",
        "        # find optimal alocation\n",
        "        min_alo = find_cmin[[supply,demand]].min(axis=1)\n",
        "        alo = min_alo.nsmallest(1)\n",
        "      else:\n",
        "        # find max penalties of column\n",
        "        find_pmax = vogel[vogel['p_col'] == max_pcol]\n",
        "        # find min cost \n",
        "        find_cmin = find_pmax[find_pmax[cost] == min(find_pmax[cost])]\n",
        "        # find optimal alocation\n",
        "        min_alo = find_cmin[[supply,demand]].min(axis=1)\n",
        "        alo = min_alo.nsmallest(1)\n",
        "\n",
        "    # if penalty row & penalty cost are equal\n",
        "    if max_prow == max_pcol: \n",
        "      # find max penalties & min cost of row \n",
        "      find_pmax_r = vogel[vogel['p_row'] == max_prow]\n",
        "      cmin_r = min(find_pmax_r[cost])\n",
        "      # find max penalties & min cost of column \n",
        "      find_pmax_c = vogel[vogel['p_col'] == max_pcol]\n",
        "      cmin_c = min(find_pmax_c[cost])\n",
        "      # there are 3 condition of possible cost\n",
        "      if cmin_r == cmin_c: # 1.if cost of penalty row & penalty column are equal\n",
        "        find_cmin_r = find_pmax_r[find_pmax_r[cost] == cmin_r]\n",
        "        min_alo_r = find_cmin_r[[supply,demand]].min(axis=1)\n",
        "        alo_r = min_alo_r.nsmallest(1)\n",
        "        find_cmin_c = find_pmax_c[find_pmax_c[cost] == cmin_c]\n",
        "        min_alo_c = find_cmin_c[[supply,demand]].min(axis=1)\n",
        "        alo_c = min_alo_c.nsmallest(1)\n",
        "        if alo_r.values[0] > alo_c.values[0]:\n",
        "          alo = alo_r\n",
        "        else :\n",
        "          alo = alo_c\n",
        "      elif cmin_r < cmin_c: # 2.if cost of penalty row < penalty column \n",
        "        find_cmin = find_pmax_r[find_pmax_r[cost] == cmin_r]\n",
        "        min_alo = find_cmin[[supply,demand]].min(axis=1)\n",
        "        alo = min_alo.nsmallest(1)\n",
        "      else: # 3.if cost of penalty row > penalty column\n",
        "        find_cmin = find_pmax_c[find_pmax_c[cost] == cmin_c]\n",
        "        min_alo = find_cmin[[supply,demand]].min(axis=1)\n",
        "        alo = min_alo.nsmallest(1)\n",
        "    # assign allocation\n",
        "    vogel.loc[alo.index, 'optimize'] = alo.values[0]  \n",
        "    # updating supply\n",
        "    row = vogel.loc[alo.index, supply_id].values[0]\n",
        "    row_idx = vogel[vogel[supply_id] == row].index\n",
        "    new_supply = vogel.loc[alo.index, supply].values[0] - alo.values[0]\n",
        "    vogel.loc[row_idx, supply] = new_supply\n",
        "    # updating demand\n",
        "    col = vogel.loc[alo.index, demand_id].values[0]\n",
        "    col_idx = vogel[vogel[demand_id] == col].index\n",
        "    new_demand = vogel.loc[alo.index, demand].values[0] - alo.values[0]\n",
        "    vogel.loc[col_idx, demand] = new_demand\n",
        "    # remove cost \n",
        "    vogel.loc[alo.index, cost] = np.inf\n",
        "    data2 = vogel[[supply_id, demand_id, supply, demand, cost,'optimize']]\n",
        "  data3 = balancing(data.copy(), supply, demand, supply_id, demand_id, cost)\n",
        "  return pd.concat([data3, data2['optimize']], axis=1)"
      ],
      "execution_count": null,
      "outputs": []
    },
    {
      "cell_type": "code",
      "metadata": {
        "id": "Pdwtlt_OHo77"
      },
      "source": [
        "# run VAM method to All Data\n",
        "output2 = {'cost':{}, 'margin':{}, 'nett':{}}\n",
        "\n",
        "for keys in output2:\n",
        "  vogel = {}\n",
        "  nett_margin = {}\n",
        "  table_opt = {}\n",
        "  type = ['AA', 'BB', 'CC']\n",
        "  for i in type:\n",
        "    if keys == 'cost':\n",
        "      objj = 'min'\n",
        "    else:\n",
        "      objj = 'max'\n",
        "    vogel[i] = VAM(data[i], supply='capacity', demand='demand', \n",
        "                   supply_id='plant', demand_id='branch_id', \n",
        "                   cost=keys, obj=objj)\n",
        "    table_opt[i] = pd.pivot_table(data=vogel[i], index='plant', \n",
        "                                  columns='branch_id', values='optimize')\n",
        "    margin_df = vogel[i].merge(data[i], how='inner')\n",
        "    # Calculate total net margin\n",
        "    margin_df['calc'] = margin_df['optimize'] * margin_df['nett']\n",
        "    nett_margin[i] = margin_df['calc'].sum()\n",
        "  output2[keys] = {'vogel': vogel, \n",
        "                  'table_opt': table_opt, \n",
        "                  'nett_margin': nett_margin}"
      ],
      "execution_count": null,
      "outputs": []
    },
    {
      "cell_type": "code",
      "metadata": {
        "colab": {
          "base_uri": "https://localhost:8080/"
        },
        "id": "6vK4bOAC2O4D",
        "outputId": "964065d9-75b5-452d-9b79-4e98729e73a0"
      },
      "source": [
        "output2['cost']['nett_margin']"
      ],
      "execution_count": null,
      "outputs": [
        {
          "output_type": "execute_result",
          "data": {
            "text/plain": [
              "{'AA': 2907800000.0, 'BB': 1708700000.0, 'CC': 2390950000.0}"
            ]
          },
          "metadata": {
            "tags": []
          },
          "execution_count": 81
        }
      ]
    },
    {
      "cell_type": "code",
      "metadata": {
        "colab": {
          "base_uri": "https://localhost:8080/"
        },
        "id": "IueaSJLWKvIx",
        "outputId": "a1c3ef8b-b7e2-42df-e1d5-3c6fbe1e7b56"
      },
      "source": [
        "# Total nett margin for 'Base of Cost'\n",
        "sum(output2['cost']['nett_margin'].values())"
      ],
      "execution_count": null,
      "outputs": [
        {
          "output_type": "execute_result",
          "data": {
            "text/plain": [
              "7007450000.0"
            ]
          },
          "metadata": {
            "tags": []
          },
          "execution_count": 82
        }
      ]
    },
    {
      "cell_type": "code",
      "metadata": {
        "colab": {
          "base_uri": "https://localhost:8080/",
          "height": 204
        },
        "id": "DD5YeaoRcrsk",
        "outputId": "e4e2f4fa-5709-4ca0-b765-198ceeb5c1b1"
      },
      "source": [
        "output2['cost']['table_opt']['AA']\n",
        "# last is row dummy"
      ],
      "execution_count": null,
      "outputs": [
        {
          "output_type": "execute_result",
          "data": {
            "text/html": [
              "<div>\n",
              "<style scoped>\n",
              "    .dataframe tbody tr th:only-of-type {\n",
              "        vertical-align: middle;\n",
              "    }\n",
              "\n",
              "    .dataframe tbody tr th {\n",
              "        vertical-align: top;\n",
              "    }\n",
              "\n",
              "    .dataframe thead th {\n",
              "        text-align: right;\n",
              "    }\n",
              "</style>\n",
              "<table border=\"1\" class=\"dataframe\">\n",
              "  <thead>\n",
              "    <tr style=\"text-align: right;\">\n",
              "      <th>branch_id</th>\n",
              "      <th>0.0</th>\n",
              "      <th>1.0</th>\n",
              "      <th>2.0</th>\n",
              "      <th>3.0</th>\n",
              "    </tr>\n",
              "    <tr>\n",
              "      <th>plant</th>\n",
              "      <th></th>\n",
              "      <th></th>\n",
              "      <th></th>\n",
              "      <th></th>\n",
              "    </tr>\n",
              "  </thead>\n",
              "  <tbody>\n",
              "    <tr>\n",
              "      <th>0.0</th>\n",
              "      <td>0.0</td>\n",
              "      <td>0.0</td>\n",
              "      <td>3000.0</td>\n",
              "      <td>12000.0</td>\n",
              "    </tr>\n",
              "    <tr>\n",
              "      <th>1.0</th>\n",
              "      <td>0.0</td>\n",
              "      <td>15000.0</td>\n",
              "      <td>7000.0</td>\n",
              "      <td>0.0</td>\n",
              "    </tr>\n",
              "    <tr>\n",
              "      <th>2.0</th>\n",
              "      <td>20000.0</td>\n",
              "      <td>0.0</td>\n",
              "      <td>0.0</td>\n",
              "      <td>0.0</td>\n",
              "    </tr>\n",
              "    <tr>\n",
              "      <th>3.0</th>\n",
              "      <td>0.0</td>\n",
              "      <td>0.0</td>\n",
              "      <td>5000.0</td>\n",
              "      <td>0.0</td>\n",
              "    </tr>\n",
              "  </tbody>\n",
              "</table>\n",
              "</div>"
            ],
            "text/plain": [
              "branch_id      0.0      1.0     2.0      3.0\n",
              "plant                                       \n",
              "0.0            0.0      0.0  3000.0  12000.0\n",
              "1.0            0.0  15000.0  7000.0      0.0\n",
              "2.0        20000.0      0.0     0.0      0.0\n",
              "3.0            0.0      0.0  5000.0      0.0"
            ]
          },
          "metadata": {
            "tags": []
          },
          "execution_count": 83
        }
      ]
    },
    {
      "cell_type": "code",
      "metadata": {
        "colab": {
          "base_uri": "https://localhost:8080/",
          "height": 173
        },
        "id": "JXjj7XIYdDfa",
        "outputId": "fc39d5d2-975c-4abd-820a-854f0f6e2a2c"
      },
      "source": [
        "output2['cost']['table_opt']['BB']\n",
        "# last column is dummy"
      ],
      "execution_count": null,
      "outputs": [
        {
          "output_type": "execute_result",
          "data": {
            "text/html": [
              "<div>\n",
              "<style scoped>\n",
              "    .dataframe tbody tr th:only-of-type {\n",
              "        vertical-align: middle;\n",
              "    }\n",
              "\n",
              "    .dataframe tbody tr th {\n",
              "        vertical-align: top;\n",
              "    }\n",
              "\n",
              "    .dataframe thead th {\n",
              "        text-align: right;\n",
              "    }\n",
              "</style>\n",
              "<table border=\"1\" class=\"dataframe\">\n",
              "  <thead>\n",
              "    <tr style=\"text-align: right;\">\n",
              "      <th>branch_id</th>\n",
              "      <th>0.0</th>\n",
              "      <th>1.0</th>\n",
              "      <th>2.0</th>\n",
              "      <th>3.0</th>\n",
              "      <th>4.0</th>\n",
              "    </tr>\n",
              "    <tr>\n",
              "      <th>plant</th>\n",
              "      <th></th>\n",
              "      <th></th>\n",
              "      <th></th>\n",
              "      <th></th>\n",
              "      <th></th>\n",
              "    </tr>\n",
              "  </thead>\n",
              "  <tbody>\n",
              "    <tr>\n",
              "      <th>0.0</th>\n",
              "      <td>0.0</td>\n",
              "      <td>0.0</td>\n",
              "      <td>6500.0</td>\n",
              "      <td>7000.0</td>\n",
              "      <td>6500.0</td>\n",
              "    </tr>\n",
              "    <tr>\n",
              "      <th>1.0</th>\n",
              "      <td>2000.0</td>\n",
              "      <td>11000.0</td>\n",
              "      <td>2000.0</td>\n",
              "      <td>0.0</td>\n",
              "      <td>0.0</td>\n",
              "    </tr>\n",
              "    <tr>\n",
              "      <th>2.0</th>\n",
              "      <td>10000.0</td>\n",
              "      <td>0.0</td>\n",
              "      <td>0.0</td>\n",
              "      <td>0.0</td>\n",
              "      <td>0.0</td>\n",
              "    </tr>\n",
              "  </tbody>\n",
              "</table>\n",
              "</div>"
            ],
            "text/plain": [
              "branch_id      0.0      1.0     2.0     3.0     4.0\n",
              "plant                                              \n",
              "0.0            0.0      0.0  6500.0  7000.0  6500.0\n",
              "1.0         2000.0  11000.0  2000.0     0.0     0.0\n",
              "2.0        10000.0      0.0     0.0     0.0     0.0"
            ]
          },
          "metadata": {
            "tags": []
          },
          "execution_count": 84
        }
      ]
    },
    {
      "cell_type": "code",
      "metadata": {
        "colab": {
          "base_uri": "https://localhost:8080/",
          "height": 173
        },
        "id": "yExu3UbpdDww",
        "outputId": "1c9f2897-a0b5-4708-ed42-7242ec8a58ea"
      },
      "source": [
        "output2['cost']['table_opt']['CC']\n",
        "# last column is dummy"
      ],
      "execution_count": null,
      "outputs": [
        {
          "output_type": "execute_result",
          "data": {
            "text/html": [
              "<div>\n",
              "<style scoped>\n",
              "    .dataframe tbody tr th:only-of-type {\n",
              "        vertical-align: middle;\n",
              "    }\n",
              "\n",
              "    .dataframe tbody tr th {\n",
              "        vertical-align: top;\n",
              "    }\n",
              "\n",
              "    .dataframe thead th {\n",
              "        text-align: right;\n",
              "    }\n",
              "</style>\n",
              "<table border=\"1\" class=\"dataframe\">\n",
              "  <thead>\n",
              "    <tr style=\"text-align: right;\">\n",
              "      <th>branch_id</th>\n",
              "      <th>0.0</th>\n",
              "      <th>1.0</th>\n",
              "      <th>2.0</th>\n",
              "      <th>3.0</th>\n",
              "      <th>4.0</th>\n",
              "    </tr>\n",
              "    <tr>\n",
              "      <th>plant</th>\n",
              "      <th></th>\n",
              "      <th></th>\n",
              "      <th></th>\n",
              "      <th></th>\n",
              "      <th></th>\n",
              "    </tr>\n",
              "  </thead>\n",
              "  <tbody>\n",
              "    <tr>\n",
              "      <th>0.0</th>\n",
              "      <td>0.0</td>\n",
              "      <td>0.0</td>\n",
              "      <td>0.0</td>\n",
              "      <td>0.0</td>\n",
              "      <td>12000.0</td>\n",
              "    </tr>\n",
              "    <tr>\n",
              "      <th>1.0</th>\n",
              "      <td>0.0</td>\n",
              "      <td>10500.0</td>\n",
              "      <td>0.0</td>\n",
              "      <td>4500.0</td>\n",
              "      <td>0.0</td>\n",
              "    </tr>\n",
              "    <tr>\n",
              "      <th>2.0</th>\n",
              "      <td>12000.0</td>\n",
              "      <td>0.0</td>\n",
              "      <td>9000.0</td>\n",
              "      <td>5500.0</td>\n",
              "      <td>500.0</td>\n",
              "    </tr>\n",
              "  </tbody>\n",
              "</table>\n",
              "</div>"
            ],
            "text/plain": [
              "branch_id      0.0      1.0     2.0     3.0      4.0\n",
              "plant                                               \n",
              "0.0            0.0      0.0     0.0     0.0  12000.0\n",
              "1.0            0.0  10500.0     0.0  4500.0      0.0\n",
              "2.0        12000.0      0.0  9000.0  5500.0    500.0"
            ]
          },
          "metadata": {
            "tags": []
          },
          "execution_count": 85
        }
      ]
    },
    {
      "cell_type": "code",
      "metadata": {
        "colab": {
          "base_uri": "https://localhost:8080/"
        },
        "id": "z-RAsidBN4LE",
        "outputId": "71bc27c4-5208-4e85-df38-24cceade2ba1"
      },
      "source": [
        "output2['margin']['nett_margin']"
      ],
      "execution_count": null,
      "outputs": [
        {
          "output_type": "execute_result",
          "data": {
            "text/plain": [
              "{'AA': 2881800000.0, 'BB': 1670300000.0, 'CC': 2421700000.0}"
            ]
          },
          "metadata": {
            "tags": []
          },
          "execution_count": 86
        }
      ]
    },
    {
      "cell_type": "code",
      "metadata": {
        "colab": {
          "base_uri": "https://localhost:8080/"
        },
        "id": "g5--rxa8Lrsn",
        "outputId": "d7b55925-98e2-4b20-c168-c2174f2fc982"
      },
      "source": [
        "# Total nett margin for 'Base on Margin'\n",
        "sum(output2['margin']['nett_margin'].values())"
      ],
      "execution_count": null,
      "outputs": [
        {
          "output_type": "execute_result",
          "data": {
            "text/plain": [
              "6973800000.0"
            ]
          },
          "metadata": {
            "tags": []
          },
          "execution_count": 87
        }
      ]
    },
    {
      "cell_type": "code",
      "metadata": {
        "colab": {
          "base_uri": "https://localhost:8080/"
        },
        "id": "3OosuuPNL0ya",
        "outputId": "2e0feea1-1d29-4af4-8cc9-35df48414967"
      },
      "source": [
        "output2['nett']['nett_margin']"
      ],
      "execution_count": null,
      "outputs": [
        {
          "output_type": "execute_result",
          "data": {
            "text/plain": [
              "{'AA': 2844800000.0, 'BB': 1708500000.0, 'CC': 2454800000.0}"
            ]
          },
          "metadata": {
            "tags": []
          },
          "execution_count": 88
        }
      ]
    },
    {
      "cell_type": "code",
      "metadata": {
        "colab": {
          "base_uri": "https://localhost:8080/"
        },
        "id": "qtOFhIvFLfac",
        "outputId": "c9bc247b-83cb-430c-fc23-6573df9b3488"
      },
      "source": [
        "# Total nett margin for 'Base on nett Margin'\n",
        "sum(output2['nett']['nett_margin'].values())"
      ],
      "execution_count": null,
      "outputs": [
        {
          "output_type": "execute_result",
          "data": {
            "text/plain": [
              "7008100000.0"
            ]
          },
          "metadata": {
            "tags": []
          },
          "execution_count": 89
        }
      ]
    },
    {
      "cell_type": "markdown",
      "metadata": {
        "id": "uIP5OVQGNvn8"
      },
      "source": [
        "# Using Excel given method"
      ]
    },
    {
      "cell_type": "code",
      "metadata": {
        "id": "EHjsO250M3uI"
      },
      "source": [
        "# this function is base on example calculation in excel that was given\n",
        "def exc_method(data, supply, demand, supply_id, demand_id, cost, obj='min'):\n",
        "  nrow = data.groupby(supply_id).count().shape[0]\n",
        "  ncol = data.groupby(demand_id).count().shape[0]\n",
        "  data1 = data.copy()\n",
        "  data1['optimize'] = 0\n",
        "  for i in range(ncol):\n",
        "    data2 = data1[data1[demand_id] == i].copy()\n",
        "    for j in range(nrow):\n",
        "      # finding minimum/maximum cost value'\n",
        "      if obj == 'min' :\n",
        "        minval = min(data2[cost])\n",
        "      elif obj == 'max':\n",
        "        minval = max(data2[cost])\n",
        "      else:\n",
        "        raise Exception(\"use objective 'min' [default] for minimalization or 'max' for maximization problem\")\n",
        "      # finding minimum/maximum cost value'\n",
        "      minval_df = data2[data2[cost] == minval]\n",
        "      # find optimal allocation\n",
        "      min_alo = minval_df[[supply,demand]].min(axis=1)\n",
        "      alo = min_alo.nsmallest(1)\n",
        "      # assign allocation\n",
        "      data1.loc[alo.index, 'optimize'] = alo.values[0]\n",
        "\n",
        "      # updating supply\n",
        "      row = data1.loc[alo.index, supply_id].values[0]\n",
        "      row_idx = data1[data1[supply_id] == row].index\n",
        "      new_supply = data1.loc[alo.index, supply].values[0] - alo.values[0]\n",
        "      # data1 is for looping all column & row\n",
        "      data1.loc[row_idx, supply] = new_supply\n",
        "      # data2 is for looping by row\n",
        "      data2.loc[alo.index, supply] = new_supply\n",
        "        \n",
        "      # updating demand\n",
        "      col = data2.loc[alo.index, demand_id].values[0]\n",
        "      col_idx = data2[data2[demand_id] == col].index\n",
        "      new_demand = data2.loc[alo.index, demand].values[0] - alo.values[0]\n",
        "      data1.loc[col_idx, demand] = new_demand\n",
        "      data2.loc[col_idx, demand] = new_demand\n",
        "\n",
        "      # remove cost in allocation location\n",
        "      if obj == 'min' :\n",
        "        limit = np.inf\n",
        "      else: \n",
        "        limit = -np.inf\n",
        "      data1.loc[alo.index, cost] = limit  \n",
        "      data2.loc[alo.index, cost] = limit \n",
        "\n",
        "  return pd.concat([data, data1['optimize']], axis=1)"
      ],
      "execution_count": null,
      "outputs": []
    },
    {
      "cell_type": "code",
      "metadata": {
        "id": "xdyFi_N2yvUQ"
      },
      "source": [
        "# run excel method to All Data\n",
        "output3 = {'cost':{}, 'margin':{}, 'nett':{}}\n",
        "\n",
        "for keys in output3:\n",
        "  excel = {}\n",
        "  nett_margin = {}\n",
        "  table_opt = {}\n",
        "  type = ['AA', 'BB', 'CC']\n",
        "  for i in type:\n",
        "    if keys == 'cost':\n",
        "      objj = 'min'\n",
        "    else:\n",
        "      objj = 'max'\n",
        "    excel[i] = exc_method(data[i], supply='capacity', demand='demand', \n",
        "                   supply_id='plant', demand_id='branch_id', \n",
        "                   cost=keys, obj=objj)\n",
        "    table_opt[i] = pd.pivot_table(data=excel[i], index='plant', \n",
        "                                  columns='branch_id', values='optimize')\n",
        "    margin_df = excel[i].merge(data[i], how='inner')\n",
        "    # Calculate total net margin\n",
        "    margin_df['calc'] = margin_df['optimize'] * margin_df['nett']\n",
        "    nett_margin[i] = margin_df['calc'].sum()\n",
        "  output3[keys] = {'excel': excel, \n",
        "                  'table_opt': table_opt, \n",
        "                  'nett_margin': nett_margin}"
      ],
      "execution_count": null,
      "outputs": []
    },
    {
      "cell_type": "code",
      "metadata": {
        "colab": {
          "base_uri": "https://localhost:8080/"
        },
        "id": "KBHGIwU8dhSl",
        "outputId": "544121b7-e538-4b71-f6a1-e49d2a10511c"
      },
      "source": [
        "output3['cost']['nett_margin']"
      ],
      "execution_count": null,
      "outputs": [
        {
          "output_type": "execute_result",
          "data": {
            "text/plain": [
              "{'AA': 2904300000, 'BB': 1688900000, 'CC': 2456350000}"
            ]
          },
          "metadata": {
            "tags": []
          },
          "execution_count": 92
        }
      ]
    },
    {
      "cell_type": "code",
      "metadata": {
        "colab": {
          "base_uri": "https://localhost:8080/"
        },
        "id": "Up09SHuddjsx",
        "outputId": "e14864d3-2af1-4139-ed29-dbe17a66c150"
      },
      "source": [
        "# Total nett margin for min cost base\n",
        "sum(output3['cost']['nett_margin'].values())"
      ],
      "execution_count": null,
      "outputs": [
        {
          "output_type": "execute_result",
          "data": {
            "text/plain": [
              "7049550000"
            ]
          },
          "metadata": {
            "tags": []
          },
          "execution_count": 93
        }
      ]
    },
    {
      "cell_type": "code",
      "metadata": {
        "colab": {
          "base_uri": "https://localhost:8080/",
          "height": 173
        },
        "id": "t41YL0PdTT4m",
        "outputId": "cd168723-cd60-421d-8e53-2612f7a0f856"
      },
      "source": [
        "output3['cost']['table_opt']['AA']"
      ],
      "execution_count": null,
      "outputs": [
        {
          "output_type": "execute_result",
          "data": {
            "text/html": [
              "<div>\n",
              "<style scoped>\n",
              "    .dataframe tbody tr th:only-of-type {\n",
              "        vertical-align: middle;\n",
              "    }\n",
              "\n",
              "    .dataframe tbody tr th {\n",
              "        vertical-align: top;\n",
              "    }\n",
              "\n",
              "    .dataframe thead th {\n",
              "        text-align: right;\n",
              "    }\n",
              "</style>\n",
              "<table border=\"1\" class=\"dataframe\">\n",
              "  <thead>\n",
              "    <tr style=\"text-align: right;\">\n",
              "      <th>branch_id</th>\n",
              "      <th>0</th>\n",
              "      <th>1</th>\n",
              "      <th>2</th>\n",
              "      <th>3</th>\n",
              "    </tr>\n",
              "    <tr>\n",
              "      <th>plant</th>\n",
              "      <th></th>\n",
              "      <th></th>\n",
              "      <th></th>\n",
              "      <th></th>\n",
              "    </tr>\n",
              "  </thead>\n",
              "  <tbody>\n",
              "    <tr>\n",
              "      <th>0</th>\n",
              "      <td>0</td>\n",
              "      <td>0</td>\n",
              "      <td>15000</td>\n",
              "      <td>0</td>\n",
              "    </tr>\n",
              "    <tr>\n",
              "      <th>1</th>\n",
              "      <td>0</td>\n",
              "      <td>15000</td>\n",
              "      <td>0</td>\n",
              "      <td>7000</td>\n",
              "    </tr>\n",
              "    <tr>\n",
              "      <th>2</th>\n",
              "      <td>20000</td>\n",
              "      <td>0</td>\n",
              "      <td>0</td>\n",
              "      <td>0</td>\n",
              "    </tr>\n",
              "  </tbody>\n",
              "</table>\n",
              "</div>"
            ],
            "text/plain": [
              "branch_id      0      1      2     3\n",
              "plant                               \n",
              "0              0      0  15000     0\n",
              "1              0  15000      0  7000\n",
              "2          20000      0      0     0"
            ]
          },
          "metadata": {
            "tags": []
          },
          "execution_count": 94
        }
      ]
    },
    {
      "cell_type": "code",
      "metadata": {
        "id": "FEbvM_In3kDU",
        "colab": {
          "base_uri": "https://localhost:8080/",
          "height": 173
        },
        "outputId": "d5a2b171-4282-49a1-c7e1-465812c949a0"
      },
      "source": [
        "output3['cost']['table_opt']['BB']"
      ],
      "execution_count": null,
      "outputs": [
        {
          "output_type": "execute_result",
          "data": {
            "text/html": [
              "<div>\n",
              "<style scoped>\n",
              "    .dataframe tbody tr th:only-of-type {\n",
              "        vertical-align: middle;\n",
              "    }\n",
              "\n",
              "    .dataframe tbody tr th {\n",
              "        vertical-align: top;\n",
              "    }\n",
              "\n",
              "    .dataframe thead th {\n",
              "        text-align: right;\n",
              "    }\n",
              "</style>\n",
              "<table border=\"1\" class=\"dataframe\">\n",
              "  <thead>\n",
              "    <tr style=\"text-align: right;\">\n",
              "      <th>branch_id</th>\n",
              "      <th>0</th>\n",
              "      <th>1</th>\n",
              "      <th>2</th>\n",
              "      <th>3</th>\n",
              "    </tr>\n",
              "    <tr>\n",
              "      <th>plant</th>\n",
              "      <th></th>\n",
              "      <th></th>\n",
              "      <th></th>\n",
              "      <th></th>\n",
              "    </tr>\n",
              "  </thead>\n",
              "  <tbody>\n",
              "    <tr>\n",
              "      <th>0</th>\n",
              "      <td>2000</td>\n",
              "      <td>0</td>\n",
              "      <td>8500</td>\n",
              "      <td>7000</td>\n",
              "    </tr>\n",
              "    <tr>\n",
              "      <th>1</th>\n",
              "      <td>0</td>\n",
              "      <td>11000</td>\n",
              "      <td>0</td>\n",
              "      <td>0</td>\n",
              "    </tr>\n",
              "    <tr>\n",
              "      <th>2</th>\n",
              "      <td>10000</td>\n",
              "      <td>0</td>\n",
              "      <td>0</td>\n",
              "      <td>0</td>\n",
              "    </tr>\n",
              "  </tbody>\n",
              "</table>\n",
              "</div>"
            ],
            "text/plain": [
              "branch_id      0      1     2     3\n",
              "plant                              \n",
              "0           2000      0  8500  7000\n",
              "1              0  11000     0     0\n",
              "2          10000      0     0     0"
            ]
          },
          "metadata": {
            "tags": []
          },
          "execution_count": 95
        }
      ]
    },
    {
      "cell_type": "code",
      "metadata": {
        "colab": {
          "base_uri": "https://localhost:8080/",
          "height": 173
        },
        "id": "QHitxfB4ds_9",
        "outputId": "c1586121-425d-4911-ec4c-dca5da9dbf3b"
      },
      "source": [
        "output3['cost']['table_opt']['CC']"
      ],
      "execution_count": null,
      "outputs": [
        {
          "output_type": "execute_result",
          "data": {
            "text/html": [
              "<div>\n",
              "<style scoped>\n",
              "    .dataframe tbody tr th:only-of-type {\n",
              "        vertical-align: middle;\n",
              "    }\n",
              "\n",
              "    .dataframe tbody tr th {\n",
              "        vertical-align: top;\n",
              "    }\n",
              "\n",
              "    .dataframe thead th {\n",
              "        text-align: right;\n",
              "    }\n",
              "</style>\n",
              "<table border=\"1\" class=\"dataframe\">\n",
              "  <thead>\n",
              "    <tr style=\"text-align: right;\">\n",
              "      <th>branch_id</th>\n",
              "      <th>0</th>\n",
              "      <th>1</th>\n",
              "      <th>2</th>\n",
              "      <th>3</th>\n",
              "    </tr>\n",
              "    <tr>\n",
              "      <th>plant</th>\n",
              "      <th></th>\n",
              "      <th></th>\n",
              "      <th></th>\n",
              "      <th></th>\n",
              "    </tr>\n",
              "  </thead>\n",
              "  <tbody>\n",
              "    <tr>\n",
              "      <th>0</th>\n",
              "      <td>0</td>\n",
              "      <td>0</td>\n",
              "      <td>9000</td>\n",
              "      <td>3000</td>\n",
              "    </tr>\n",
              "    <tr>\n",
              "      <th>1</th>\n",
              "      <td>0</td>\n",
              "      <td>10500</td>\n",
              "      <td>0</td>\n",
              "      <td>4500</td>\n",
              "    </tr>\n",
              "    <tr>\n",
              "      <th>2</th>\n",
              "      <td>12000</td>\n",
              "      <td>0</td>\n",
              "      <td>0</td>\n",
              "      <td>2500</td>\n",
              "    </tr>\n",
              "  </tbody>\n",
              "</table>\n",
              "</div>"
            ],
            "text/plain": [
              "branch_id      0      1     2     3\n",
              "plant                              \n",
              "0              0      0  9000  3000\n",
              "1              0  10500     0  4500\n",
              "2          12000      0     0  2500"
            ]
          },
          "metadata": {
            "tags": []
          },
          "execution_count": 96
        }
      ]
    },
    {
      "cell_type": "code",
      "metadata": {
        "id": "i49eoIyXCEnE",
        "colab": {
          "base_uri": "https://localhost:8080/"
        },
        "outputId": "cc6cae9a-39a6-464e-a428-058faf182a0f"
      },
      "source": [
        "output3['margin']['nett_margin']"
      ],
      "execution_count": null,
      "outputs": [
        {
          "output_type": "execute_result",
          "data": {
            "text/plain": [
              "{'AA': 2896800000, 'BB': 1688500000, 'CC': 2430550000}"
            ]
          },
          "metadata": {
            "tags": []
          },
          "execution_count": 97
        }
      ]
    },
    {
      "cell_type": "code",
      "metadata": {
        "colab": {
          "base_uri": "https://localhost:8080/"
        },
        "id": "bPrilq46eBur",
        "outputId": "6278ee31-df0e-4255-a1d9-94b9abbe47c0"
      },
      "source": [
        "# Total nett margin for max margin base\n",
        "sum(output3['margin']['nett_margin'].values())"
      ],
      "execution_count": null,
      "outputs": [
        {
          "output_type": "execute_result",
          "data": {
            "text/plain": [
              "7015850000"
            ]
          },
          "metadata": {
            "tags": []
          },
          "execution_count": 98
        }
      ]
    },
    {
      "cell_type": "code",
      "metadata": {
        "colab": {
          "base_uri": "https://localhost:8080/"
        },
        "id": "NwXEktiTd-Vx",
        "outputId": "8202dfd7-21ee-4a08-aefe-cb7cec2e4c7f"
      },
      "source": [
        "output3['nett']['nett_margin']"
      ],
      "execution_count": null,
      "outputs": [
        {
          "output_type": "execute_result",
          "data": {
            "text/plain": [
              "{'AA': 2904300000, 'BB': 1688500000, 'CC': 2430550000}"
            ]
          },
          "metadata": {
            "tags": []
          },
          "execution_count": 99
        }
      ]
    },
    {
      "cell_type": "code",
      "metadata": {
        "id": "KYnhr-sCOt-u",
        "colab": {
          "base_uri": "https://localhost:8080/"
        },
        "outputId": "2f3ba4b2-c078-4e71-c117-1f365afd13be"
      },
      "source": [
        "# Total nett margin for max nett margin base\n",
        "sum(output3['nett']['nett_margin'].values())"
      ],
      "execution_count": null,
      "outputs": [
        {
          "output_type": "execute_result",
          "data": {
            "text/plain": [
              "7023350000"
            ]
          },
          "metadata": {
            "tags": []
          },
          "execution_count": 100
        }
      ]
    },
    {
      "cell_type": "markdown",
      "metadata": {
        "id": "h5tO0rwCkrmn"
      },
      "source": [
        "# Optimatization using combination all 3 method for each product and chose the best total net margin"
      ]
    },
    {
      "cell_type": "code",
      "metadata": {
        "id": "Bm5jkGzFGm-3"
      },
      "source": [
        "def find_best_method(cost):\n",
        "  table = []\n",
        "  product = ['AA', 'BB', 'CC']\n",
        "  for i in product:\n",
        "    LC = output[cost]['nett_margin'][i]\n",
        "    Vogel = output2[cost]['nett_margin'][i]\n",
        "    Excel = output3[cost]['nett_margin'][i]\n",
        "    dict_ = {'LC': int(LC), 'Vogel': int(Vogel), 'Excel': int(Excel)}\n",
        "    table.append(dict_)\n",
        "  result = pd.DataFrame(table)\n",
        "  result.index = product\n",
        "  result['Best'] = result.max(axis=1)\n",
        "  result.loc[\"Total\"] = result.sum()\n",
        "  return result"
      ],
      "execution_count": null,
      "outputs": []
    },
    {
      "cell_type": "markdown",
      "metadata": {
        "id": "hN-bsov0lsfP"
      },
      "source": [
        "## Base on Cost"
      ]
    },
    {
      "cell_type": "code",
      "metadata": {
        "colab": {
          "base_uri": "https://localhost:8080/",
          "height": 173
        },
        "id": "GwAGeWVxmoHX",
        "outputId": "9e710a8a-355c-4f92-8ae1-155a616cf90b"
      },
      "source": [
        "find_best_method('cost')"
      ],
      "execution_count": null,
      "outputs": [
        {
          "output_type": "execute_result",
          "data": {
            "text/html": [
              "<div>\n",
              "<style scoped>\n",
              "    .dataframe tbody tr th:only-of-type {\n",
              "        vertical-align: middle;\n",
              "    }\n",
              "\n",
              "    .dataframe tbody tr th {\n",
              "        vertical-align: top;\n",
              "    }\n",
              "\n",
              "    .dataframe thead th {\n",
              "        text-align: right;\n",
              "    }\n",
              "</style>\n",
              "<table border=\"1\" class=\"dataframe\">\n",
              "  <thead>\n",
              "    <tr style=\"text-align: right;\">\n",
              "      <th></th>\n",
              "      <th>LC</th>\n",
              "      <th>Vogel</th>\n",
              "      <th>Excel</th>\n",
              "      <th>Best</th>\n",
              "    </tr>\n",
              "  </thead>\n",
              "  <tbody>\n",
              "    <tr>\n",
              "      <th>AA</th>\n",
              "      <td>2902800000</td>\n",
              "      <td>2907800000</td>\n",
              "      <td>2904300000</td>\n",
              "      <td>2907800000</td>\n",
              "    </tr>\n",
              "    <tr>\n",
              "      <th>BB</th>\n",
              "      <td>1708700000</td>\n",
              "      <td>1708700000</td>\n",
              "      <td>1688900000</td>\n",
              "      <td>1708700000</td>\n",
              "    </tr>\n",
              "    <tr>\n",
              "      <th>CC</th>\n",
              "      <td>2381150000</td>\n",
              "      <td>2390950000</td>\n",
              "      <td>2456350000</td>\n",
              "      <td>2456350000</td>\n",
              "    </tr>\n",
              "    <tr>\n",
              "      <th>Total</th>\n",
              "      <td>6992650000</td>\n",
              "      <td>7007450000</td>\n",
              "      <td>7049550000</td>\n",
              "      <td>7072850000</td>\n",
              "    </tr>\n",
              "  </tbody>\n",
              "</table>\n",
              "</div>"
            ],
            "text/plain": [
              "               LC       Vogel       Excel        Best\n",
              "AA     2902800000  2907800000  2904300000  2907800000\n",
              "BB     1708700000  1708700000  1688900000  1708700000\n",
              "CC     2381150000  2390950000  2456350000  2456350000\n",
              "Total  6992650000  7007450000  7049550000  7072850000"
            ]
          },
          "metadata": {
            "tags": []
          },
          "execution_count": 102
        }
      ]
    },
    {
      "cell_type": "markdown",
      "metadata": {
        "id": "2wNYMNnJoIan"
      },
      "source": [
        "- Product AA we choose Vogel method for optimal solution\n",
        "- Product BB we choose LC cause more simple \n",
        "- Product CC we choose Excel method\n",
        "- with Total Nett Margin = 7.072.850.000\n",
        "\n"
      ]
    },
    {
      "cell_type": "code",
      "metadata": {
        "colab": {
          "base_uri": "https://localhost:8080/",
          "height": 204
        },
        "id": "z-Ko_7kAoxxo",
        "outputId": "e14e13b0-060b-443d-e167-0499670eb27c"
      },
      "source": [
        "# Optimal allocation of each product for best method\n",
        "# last row is dummy \n",
        "output2['cost']['table_opt']['AA']"
      ],
      "execution_count": null,
      "outputs": [
        {
          "output_type": "execute_result",
          "data": {
            "text/html": [
              "<div>\n",
              "<style scoped>\n",
              "    .dataframe tbody tr th:only-of-type {\n",
              "        vertical-align: middle;\n",
              "    }\n",
              "\n",
              "    .dataframe tbody tr th {\n",
              "        vertical-align: top;\n",
              "    }\n",
              "\n",
              "    .dataframe thead th {\n",
              "        text-align: right;\n",
              "    }\n",
              "</style>\n",
              "<table border=\"1\" class=\"dataframe\">\n",
              "  <thead>\n",
              "    <tr style=\"text-align: right;\">\n",
              "      <th>branch_id</th>\n",
              "      <th>0.0</th>\n",
              "      <th>1.0</th>\n",
              "      <th>2.0</th>\n",
              "      <th>3.0</th>\n",
              "    </tr>\n",
              "    <tr>\n",
              "      <th>plant</th>\n",
              "      <th></th>\n",
              "      <th></th>\n",
              "      <th></th>\n",
              "      <th></th>\n",
              "    </tr>\n",
              "  </thead>\n",
              "  <tbody>\n",
              "    <tr>\n",
              "      <th>0.0</th>\n",
              "      <td>0.0</td>\n",
              "      <td>0.0</td>\n",
              "      <td>3000.0</td>\n",
              "      <td>12000.0</td>\n",
              "    </tr>\n",
              "    <tr>\n",
              "      <th>1.0</th>\n",
              "      <td>0.0</td>\n",
              "      <td>15000.0</td>\n",
              "      <td>7000.0</td>\n",
              "      <td>0.0</td>\n",
              "    </tr>\n",
              "    <tr>\n",
              "      <th>2.0</th>\n",
              "      <td>20000.0</td>\n",
              "      <td>0.0</td>\n",
              "      <td>0.0</td>\n",
              "      <td>0.0</td>\n",
              "    </tr>\n",
              "    <tr>\n",
              "      <th>3.0</th>\n",
              "      <td>0.0</td>\n",
              "      <td>0.0</td>\n",
              "      <td>5000.0</td>\n",
              "      <td>0.0</td>\n",
              "    </tr>\n",
              "  </tbody>\n",
              "</table>\n",
              "</div>"
            ],
            "text/plain": [
              "branch_id      0.0      1.0     2.0      3.0\n",
              "plant                                       \n",
              "0.0            0.0      0.0  3000.0  12000.0\n",
              "1.0            0.0  15000.0  7000.0      0.0\n",
              "2.0        20000.0      0.0     0.0      0.0\n",
              "3.0            0.0      0.0  5000.0      0.0"
            ]
          },
          "metadata": {
            "tags": []
          },
          "execution_count": 103
        }
      ]
    },
    {
      "cell_type": "code",
      "metadata": {
        "colab": {
          "base_uri": "https://localhost:8080/",
          "height": 173
        },
        "id": "EX9WtxchpvUK",
        "outputId": "c6457541-9491-49d3-ada0-e999d3350238"
      },
      "source": [
        "output['cost']['table_opt']['BB']\n",
        "#last column is dummy"
      ],
      "execution_count": null,
      "outputs": [
        {
          "output_type": "execute_result",
          "data": {
            "text/html": [
              "<div>\n",
              "<style scoped>\n",
              "    .dataframe tbody tr th:only-of-type {\n",
              "        vertical-align: middle;\n",
              "    }\n",
              "\n",
              "    .dataframe tbody tr th {\n",
              "        vertical-align: top;\n",
              "    }\n",
              "\n",
              "    .dataframe thead th {\n",
              "        text-align: right;\n",
              "    }\n",
              "</style>\n",
              "<table border=\"1\" class=\"dataframe\">\n",
              "  <thead>\n",
              "    <tr style=\"text-align: right;\">\n",
              "      <th>branch_id</th>\n",
              "      <th>0.0</th>\n",
              "      <th>1.0</th>\n",
              "      <th>2.0</th>\n",
              "      <th>3.0</th>\n",
              "      <th>4.0</th>\n",
              "    </tr>\n",
              "    <tr>\n",
              "      <th>plant</th>\n",
              "      <th></th>\n",
              "      <th></th>\n",
              "      <th></th>\n",
              "      <th></th>\n",
              "      <th></th>\n",
              "    </tr>\n",
              "  </thead>\n",
              "  <tbody>\n",
              "    <tr>\n",
              "      <th>0.0</th>\n",
              "      <td>0.0</td>\n",
              "      <td>0.0</td>\n",
              "      <td>6500.0</td>\n",
              "      <td>7000.0</td>\n",
              "      <td>6500.0</td>\n",
              "    </tr>\n",
              "    <tr>\n",
              "      <th>1.0</th>\n",
              "      <td>2000.0</td>\n",
              "      <td>11000.0</td>\n",
              "      <td>2000.0</td>\n",
              "      <td>0.0</td>\n",
              "      <td>0.0</td>\n",
              "    </tr>\n",
              "    <tr>\n",
              "      <th>2.0</th>\n",
              "      <td>10000.0</td>\n",
              "      <td>0.0</td>\n",
              "      <td>0.0</td>\n",
              "      <td>0.0</td>\n",
              "      <td>0.0</td>\n",
              "    </tr>\n",
              "  </tbody>\n",
              "</table>\n",
              "</div>"
            ],
            "text/plain": [
              "branch_id      0.0      1.0     2.0     3.0     4.0\n",
              "plant                                              \n",
              "0.0            0.0      0.0  6500.0  7000.0  6500.0\n",
              "1.0         2000.0  11000.0  2000.0     0.0     0.0\n",
              "2.0        10000.0      0.0     0.0     0.0     0.0"
            ]
          },
          "metadata": {
            "tags": []
          },
          "execution_count": 104
        }
      ]
    },
    {
      "cell_type": "code",
      "metadata": {
        "colab": {
          "base_uri": "https://localhost:8080/",
          "height": 173
        },
        "id": "mcUDMdXgp7p1",
        "outputId": "095c6c5c-3017-4e9d-bbae-352a22c901b6"
      },
      "source": [
        "output3['cost']['table_opt']['CC']\n"
      ],
      "execution_count": null,
      "outputs": [
        {
          "output_type": "execute_result",
          "data": {
            "text/html": [
              "<div>\n",
              "<style scoped>\n",
              "    .dataframe tbody tr th:only-of-type {\n",
              "        vertical-align: middle;\n",
              "    }\n",
              "\n",
              "    .dataframe tbody tr th {\n",
              "        vertical-align: top;\n",
              "    }\n",
              "\n",
              "    .dataframe thead th {\n",
              "        text-align: right;\n",
              "    }\n",
              "</style>\n",
              "<table border=\"1\" class=\"dataframe\">\n",
              "  <thead>\n",
              "    <tr style=\"text-align: right;\">\n",
              "      <th>branch_id</th>\n",
              "      <th>0</th>\n",
              "      <th>1</th>\n",
              "      <th>2</th>\n",
              "      <th>3</th>\n",
              "    </tr>\n",
              "    <tr>\n",
              "      <th>plant</th>\n",
              "      <th></th>\n",
              "      <th></th>\n",
              "      <th></th>\n",
              "      <th></th>\n",
              "    </tr>\n",
              "  </thead>\n",
              "  <tbody>\n",
              "    <tr>\n",
              "      <th>0</th>\n",
              "      <td>0</td>\n",
              "      <td>0</td>\n",
              "      <td>9000</td>\n",
              "      <td>3000</td>\n",
              "    </tr>\n",
              "    <tr>\n",
              "      <th>1</th>\n",
              "      <td>0</td>\n",
              "      <td>10500</td>\n",
              "      <td>0</td>\n",
              "      <td>4500</td>\n",
              "    </tr>\n",
              "    <tr>\n",
              "      <th>2</th>\n",
              "      <td>12000</td>\n",
              "      <td>0</td>\n",
              "      <td>0</td>\n",
              "      <td>2500</td>\n",
              "    </tr>\n",
              "  </tbody>\n",
              "</table>\n",
              "</div>"
            ],
            "text/plain": [
              "branch_id      0      1     2     3\n",
              "plant                              \n",
              "0              0      0  9000  3000\n",
              "1              0  10500     0  4500\n",
              "2          12000      0     0  2500"
            ]
          },
          "metadata": {
            "tags": []
          },
          "execution_count": 105
        }
      ]
    },
    {
      "cell_type": "markdown",
      "metadata": {
        "id": "E0w57m6Z0jcJ"
      },
      "source": [
        "## Base on Margin (Max)"
      ]
    },
    {
      "cell_type": "code",
      "metadata": {
        "colab": {
          "base_uri": "https://localhost:8080/",
          "height": 173
        },
        "id": "cPdbs5rk0tWw",
        "outputId": "bf2935ff-34ab-4eca-a4db-042f6641486f"
      },
      "source": [
        "find_best_method('margin')"
      ],
      "execution_count": null,
      "outputs": [
        {
          "output_type": "execute_result",
          "data": {
            "text/html": [
              "<div>\n",
              "<style scoped>\n",
              "    .dataframe tbody tr th:only-of-type {\n",
              "        vertical-align: middle;\n",
              "    }\n",
              "\n",
              "    .dataframe tbody tr th {\n",
              "        vertical-align: top;\n",
              "    }\n",
              "\n",
              "    .dataframe thead th {\n",
              "        text-align: right;\n",
              "    }\n",
              "</style>\n",
              "<table border=\"1\" class=\"dataframe\">\n",
              "  <thead>\n",
              "    <tr style=\"text-align: right;\">\n",
              "      <th></th>\n",
              "      <th>LC</th>\n",
              "      <th>Vogel</th>\n",
              "      <th>Excel</th>\n",
              "      <th>Best</th>\n",
              "    </tr>\n",
              "  </thead>\n",
              "  <tbody>\n",
              "    <tr>\n",
              "      <th>AA</th>\n",
              "      <td>2876300000</td>\n",
              "      <td>2881800000</td>\n",
              "      <td>2896800000</td>\n",
              "      <td>2896800000</td>\n",
              "    </tr>\n",
              "    <tr>\n",
              "      <th>BB</th>\n",
              "      <td>1670300000</td>\n",
              "      <td>1670300000</td>\n",
              "      <td>1688500000</td>\n",
              "      <td>1688500000</td>\n",
              "    </tr>\n",
              "    <tr>\n",
              "      <th>CC</th>\n",
              "      <td>2359300000</td>\n",
              "      <td>2421700000</td>\n",
              "      <td>2430550000</td>\n",
              "      <td>2430550000</td>\n",
              "    </tr>\n",
              "    <tr>\n",
              "      <th>Total</th>\n",
              "      <td>6905900000</td>\n",
              "      <td>6973800000</td>\n",
              "      <td>7015850000</td>\n",
              "      <td>7015850000</td>\n",
              "    </tr>\n",
              "  </tbody>\n",
              "</table>\n",
              "</div>"
            ],
            "text/plain": [
              "               LC       Vogel       Excel        Best\n",
              "AA     2876300000  2881800000  2896800000  2896800000\n",
              "BB     1670300000  1670300000  1688500000  1688500000\n",
              "CC     2359300000  2421700000  2430550000  2430550000\n",
              "Total  6905900000  6973800000  7015850000  7015850000"
            ]
          },
          "metadata": {
            "tags": []
          },
          "execution_count": 106
        }
      ]
    },
    {
      "cell_type": "markdown",
      "metadata": {
        "id": "e9rbJ6rT1EWD"
      },
      "source": [
        "- Product AA we choose Excel method, more simple \n",
        "- Product BB we choose Excel method \n",
        "- Product CC we choose Vogel method\n",
        "- with Total Nett Margin = 7.017.600.000\n",
        "\n"
      ]
    },
    {
      "cell_type": "markdown",
      "metadata": {
        "id": "IzLRs2U3_xE3"
      },
      "source": [
        "## Base on Nett Margin (Max)"
      ]
    },
    {
      "cell_type": "code",
      "metadata": {
        "colab": {
          "base_uri": "https://localhost:8080/",
          "height": 173
        },
        "id": "x6kwZrod1D5T",
        "outputId": "8085d2b8-d795-4533-d991-ea4e4895fb61"
      },
      "source": [
        "find_best_method('nett')"
      ],
      "execution_count": null,
      "outputs": [
        {
          "output_type": "execute_result",
          "data": {
            "text/html": [
              "<div>\n",
              "<style scoped>\n",
              "    .dataframe tbody tr th:only-of-type {\n",
              "        vertical-align: middle;\n",
              "    }\n",
              "\n",
              "    .dataframe tbody tr th {\n",
              "        vertical-align: top;\n",
              "    }\n",
              "\n",
              "    .dataframe thead th {\n",
              "        text-align: right;\n",
              "    }\n",
              "</style>\n",
              "<table border=\"1\" class=\"dataframe\">\n",
              "  <thead>\n",
              "    <tr style=\"text-align: right;\">\n",
              "      <th></th>\n",
              "      <th>LC</th>\n",
              "      <th>Vogel</th>\n",
              "      <th>Excel</th>\n",
              "      <th>Best</th>\n",
              "    </tr>\n",
              "  </thead>\n",
              "  <tbody>\n",
              "    <tr>\n",
              "      <th>AA</th>\n",
              "      <td>2899300000</td>\n",
              "      <td>2844800000</td>\n",
              "      <td>2904300000</td>\n",
              "      <td>2904300000</td>\n",
              "    </tr>\n",
              "    <tr>\n",
              "      <th>BB</th>\n",
              "      <td>1708500000</td>\n",
              "      <td>1708500000</td>\n",
              "      <td>1688500000</td>\n",
              "      <td>1708500000</td>\n",
              "    </tr>\n",
              "    <tr>\n",
              "      <th>CC</th>\n",
              "      <td>2341550000</td>\n",
              "      <td>2454800000</td>\n",
              "      <td>2430550000</td>\n",
              "      <td>2454800000</td>\n",
              "    </tr>\n",
              "    <tr>\n",
              "      <th>Total</th>\n",
              "      <td>6949350000</td>\n",
              "      <td>7008100000</td>\n",
              "      <td>7023350000</td>\n",
              "      <td>7067600000</td>\n",
              "    </tr>\n",
              "  </tbody>\n",
              "</table>\n",
              "</div>"
            ],
            "text/plain": [
              "               LC       Vogel       Excel        Best\n",
              "AA     2899300000  2844800000  2904300000  2904300000\n",
              "BB     1708500000  1708500000  1688500000  1708500000\n",
              "CC     2341550000  2454800000  2430550000  2454800000\n",
              "Total  6949350000  7008100000  7023350000  7067600000"
            ]
          },
          "metadata": {
            "tags": []
          },
          "execution_count": 107
        }
      ]
    },
    {
      "cell_type": "markdown",
      "metadata": {
        "id": "ova6jTMx1jzG"
      },
      "source": [
        "- Product AA we choose Excel method \n",
        "- Product BB we choose LC method \n",
        "- Product CC we choose Vogel method\n",
        "- with Total Nett Margin = 7.067.600.000\n",
        "\n"
      ]
    },
    {
      "cell_type": "markdown",
      "metadata": {
        "id": "NjDPcEdp_78R"
      },
      "source": [
        "# Conclusion"
      ]
    },
    {
      "cell_type": "markdown",
      "metadata": {
        "id": "7s_rYPsn16ji"
      },
      "source": [
        "Finally after some combination we can conclude that the highest Total Nett Margin is produce by \"Base on Cost\" Optimatization with amount of Total Nett Margin is **7.072.850.000**"
      ]
    }
  ]
}